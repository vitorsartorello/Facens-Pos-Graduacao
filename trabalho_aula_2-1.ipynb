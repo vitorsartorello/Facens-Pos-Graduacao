{
  "nbformat": 4,
  "nbformat_minor": 0,
  "metadata": {
    "colab": {
      "provenance": []
    },
    "kernelspec": {
      "name": "python3",
      "display_name": "Python 3"
    },
    "language_info": {
      "name": "python"
    }
  },
  "cells": [
    {
      "cell_type": "markdown",
      "metadata": {
        "id": "5b927436"
      },
      "source": [
        "## Exercício 1\n",
        "\n",
        "Crie uma função em Python chamada `par_ou_impar_arquivo` que receba um número inteiro como entrada. Esta função deve iterar de 1 até o número fornecido. Para cada número no intervalo, verifique se ele é par ou ímpar usando uma condicional. Em seguida, escreva em um arquivo de texto chamado `resultado_exercicio1.txt` cada número e sua classificação (\"é par\" ou \"é ímpar\") em linhas separadas."
      ]
    },
    {
      "cell_type": "code",
      "metadata": {
        "id": "56660ac3"
      },
      "source": [
        "# Digite seu código aqui"
      ],
      "execution_count": null,
      "outputs": []
    },
    {
      "cell_type": "markdown",
      "metadata": {
        "id": "adc387c4"
      },
      "source": [
        "## Exercício 2\n",
        "\n",
        "Crie uma função Python chamada `somar_numeros_arquivo` que receba dois argumentos: o nome de um arquivo de texto de entrada e o nome de um arquivo de texto de saída. O arquivo de entrada conterá números, um por linha. A função deve ler esses números, calcular a soma deles e escrever o resultado da soma em uma nova linha no arquivo de saída. A função deve tratar possíveis erros, como o arquivo de entrada não ser encontrado ou linhas que não contenham números válidos."
      ]
    },
    {
      "cell_type": "code",
      "metadata": {
        "id": "ea76470d"
      },
      "source": [
        "# Digite seu código aqui"
      ],
      "execution_count": null,
      "outputs": []
    },
    {
      "cell_type": "markdown",
      "metadata": {
        "id": "e43495b9"
      },
      "source": [
        "## Exercício 3\n",
        "\n",
        "Crie uma função Python chamada `classificar_numeros_em_arquivo` que receba como argumentos o nome de um arquivo de texto de entrada e o nome de um arquivo de texto de saída. O arquivo de entrada conterá números, um por linha. A função deve ler esses números, classificar cada um como \"Positivo\", \"Negativo\" ou \"Zero\" e escrever o número original e sua classificação em linhas separadas no arquivo de saída exemplo -10: Negativo. A função deve tratar possíveis erros, como o arquivo de entrada não ser encontrado ou linhas que não contenham números válidos."
      ]
    },
    {
      "cell_type": "code",
      "metadata": {
        "colab": {
          "base_uri": "https://localhost:8080/"
        },
        "id": "7ae289b8",
        "outputId": "12c6a514-48b3-4d6d-a60e-b8fd86e5f124"
      },
      "source": [
        "# Digite seu código aqui"
      ],
      "execution_count": null,
      "outputs": [
        {
          "output_type": "stream",
          "name": "stdout",
          "text": [
            "Aviso: Ignorando linha inválida no arquivo de entrada: abc\n"
          ]
        }
      ]
    },
    {
      "cell_type": "markdown",
      "metadata": {
        "id": "5db35a70"
      },
      "source": [
        "## Exercício 4\n",
        "\n",
        "Crie uma função Python chamada `processar_dados_alunos` que receba como argumento o nome de um arquivo de texto. Este arquivo conterá dados de alunos no formato \"Nome,Nota1,Nota2,Nota3\", uma linha por aluno. Dentro da função, abra o arquivo para leitura. Para cada linha do arquivo, leia o nome do aluno e suas três notas. Calcule a média das três notas para cada aluno. Determine se o aluno foi aprovado (média >= 7.0) ou reprovado. Crie um novo arquivo de texto chamado \"resultados_alunos.txt\". Escreva no novo arquivo, para cada aluno, o nome e sua situação (Aprovado ou Reprovado) no formato \"Nome: Situação\". A função deve tratar possíveis erros de arquivo não encontrado e linhas com formato inválido ou notas não numéricas."
      ]
    },
    {
      "cell_type": "code",
      "metadata": {
        "id": "fe7e75dd"
      },
      "source": [
        "# Digite seu código aqui"
      ],
      "execution_count": null,
      "outputs": []
    },
    {
      "cell_type": "markdown",
      "metadata": {
        "id": "be95af3c"
      },
      "source": [
        "## Exercício 5\n",
        "\n",
        "Crie uma função Python chamada `processar_vendas_manual` que receba como argumentos o nome de um arquivo CSV de entrada e o nome de um arquivo CSV de saída. O arquivo de entrada conterá dados de vendas com as colunas \"Produto\", \"Quantidade\" e \"Preco_Unitario\".\n",
        "\n",
        "Dentro da função, abra o arquivo CSV de entrada para leitura. Leia cada linha do arquivo, **manualmente (sem usar bibliotecas como `csv`)** dividindo a linha pelas vírgulas. Para cada item de venda, calcule o \"Valor_Total\" multiplicando a \"Quantidade\" pelo \"Preco_Unitario\". Certifique-se de converter \"Quantidade\" para inteiro e \"Preco_Unitario\" para float.\n",
        "\n",
        "Crie um novo arquivo CSV de saída. Para cada linha do arquivo de entrada , escreva no arquivo de saída as informações originais (\"Produto\", \"Quantidade\", \"Preco_unitario\") e o \"Valor_Total\" calculado, separando os valores por vírgulas.\n",
        "\n",
        "A função deve tratar possíveis erros, como arquivo de entrada não encontrado, linhas com formato inválido ou valores não numéricos para Quantidade e Preco_Unitario."
      ]
    },
    {
      "cell_type": "code",
      "metadata": {
        "id": "ef951baa"
      },
      "source": [
        "# Digite seu código aqui"
      ],
      "execution_count": null,
      "outputs": []
    }
  ]
}