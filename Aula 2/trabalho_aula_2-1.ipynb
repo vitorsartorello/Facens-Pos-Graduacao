{
  "cells": [
    {
      "cell_type": "markdown",
      "metadata": {
        "id": "5b927436"
      },
      "source": [
        "## Exercício 1\n",
        "\n",
        "Crie uma função em Python chamada `par_ou_impar_arquivo` que receba um número inteiro como entrada. Esta função deve iterar de 1 até o número fornecido. Para cada número no intervalo, verifique se ele é par ou ímpar usando uma condicional. Em seguida, escreva em um arquivo de texto chamado `resultado_exercicio1.txt` cada número e sua classificação (\"é par\" ou \"é ímpar\") em linhas separadas."
      ]
    },
    {
      "cell_type": "code",
      "execution_count": null,
      "metadata": {
        "id": "56660ac3"
      },
      "outputs": [
        {
          "name": "stdout",
          "output_type": "stream",
          "text": [
            "Arquivo criado com sucesso!\n"
          ]
        }
      ],
      "source": [
        "# Digite seu código aqui\n",
        "def par_ou_impar_arquivo(x):\n",
        "    # Verifica se o número é inteiro\n",
        "    if not isinstance(x, int):\n",
        "        print(\"Por favor, digite um número inteiro.\")\n",
        "        return\n",
        "\n",
        "    # Verifica se o número é positivo\n",
        "    if x <= 0:\n",
        "        print(\"Digite um número maior que zero.\")\n",
        "        return\n",
        "\n",
        "    # Cria o arquivo e escreve o resultado\n",
        "    with open(\"resultado_exercicio1.txt\", \"w\", encoding=\"utf-8\") as arquivo:\n",
        "        for i in range(1, x + 1):\n",
        "            if i % 2 == 0:\n",
        "                arquivo.write(f\"{i} é par\\n\")\n",
        "            else:\n",
        "                arquivo.write(f\"{i} é ímpar\\n\")\n",
        "\n",
        "    print(\"Arquivo criado com sucesso!\")\n",
        "\n",
        "# Teste\n",
        "par_ou_impar_arquivo(60)"
      ]
    },
    {
      "cell_type": "markdown",
      "metadata": {
        "id": "adc387c4"
      },
      "source": [
        "## Exercício 2\n",
        "\n",
        "Crie uma função Python chamada `somar_numeros_arquivo` que receba dois argumentos: o nome de um arquivo de texto de entrada e o nome de um arquivo de texto de saída. O arquivo de entrada conterá números, um por linha. A função deve ler esses números, calcular a soma deles e escrever o resultado da soma em uma nova linha no arquivo de saída. A função deve tratar possíveis erros, como o arquivo de entrada não ser encontrado ou linhas que não contenham números válidos."
      ]
    },
    {
      "cell_type": "code",
      "execution_count": null,
      "metadata": {
        "id": "ea76470d"
      },
      "outputs": [
        {
          "name": "stdout",
          "output_type": "stream",
          "text": [
            "Arquivos criados e soma registrada em 'saida.txt'.\n"
          ]
        }
      ],
      "source": [
        "# Digite seu código aqui\n",
        "def somar_numeros_arquivo(e, s):\n",
        "    try:\n",
        "        with open(e, 'r', encoding='utf-8') as entrada:\n",
        "            linhas = entrada.readlines()\n",
        "    except FileNotFoundError:\n",
        "        print(f\"Erro: arquivo '{e}' não encontrado.\")\n",
        "        return\n",
        "\n",
        "    soma = 0\n",
        "    for linha in linhas:\n",
        "        linha = linha.strip()\n",
        "        if linha != '':\n",
        "            try:\n",
        "                numero = float(linha)\n",
        "                soma += numero\n",
        "            except ValueError:\n",
        "                print(f\"Atenção: '{linha}' não é um número válido e será ignorado.\")\n",
        "\n",
        "    with open(s, 'w', encoding='utf-8') as saida:\n",
        "        saida.write(f\"Soma: {soma}\\n\")\n",
        "\n",
        "# Criando os arquivos para teste\n",
        "\n",
        "#Arquivo de entrada                    \n",
        "with open('entrada.txt', 'w', encoding='utf-8') as f:\n",
        "    f.write(\"10\\n\")\n",
        "    f.write(\"5.5\\n\")\n",
        "    f.write(\"3\\n\")\n",
        "    f.write(\"7.2\\n\")\n",
        "\n",
        "# Cria o arquivo de saída (inicialmente vazio)\n",
        "with open('saida.txt', 'w', encoding='utf-8') as f:\n",
        "    pass\n",
        "\n",
        "# Teste \n",
        "somar_numeros_arquivo('entrada.txt', 'saida.txt')\n",
        "\n",
        "print(\"Arquivos criados e soma registrada em 'saida.txt'.\")"
      ]
    },
    {
      "cell_type": "markdown",
      "metadata": {
        "id": "e43495b9"
      },
      "source": [
        "## Exercício 3\n",
        "\n",
        "Crie uma função Python chamada `classificar_numeros_em_arquivo` que receba como argumentos o nome de um arquivo de texto de entrada e o nome de um arquivo de texto de saída. O arquivo de entrada conterá números, um por linha. A função deve ler esses números, classificar cada um como \"Positivo\", \"Negativo\" ou \"Zero\" e escrever o número original e sua classificação em linhas separadas no arquivo de saída exemplo -10: Negativo. A função deve tratar possíveis erros, como o arquivo de entrada não ser encontrado ou linhas que não contenham números válidos."
      ]
    },
    {
      "cell_type": "code",
      "execution_count": null,
      "metadata": {
        "colab": {
          "base_uri": "https://localhost:8080/"
        },
        "id": "7ae289b8",
        "outputId": "12c6a514-48b3-4d6d-a60e-b8fd86e5f124"
      },
      "outputs": [
        {
          "name": "stdout",
          "output_type": "stream",
          "text": [
            "Arquivo de teste 'entrada_teste.txt' criado!\n",
            "Atenção: 'abc' não é um número válido e será ignorado.\n",
            "Classificação concluída! Resultado salvo em 'saida_teste.txt'.\n"
          ]
        }
      ],
      "source": [
        "# Digite seu código aqui\n",
        "def classificar_numeros_em_arquivo(e, s):\n",
        "    try:\n",
        "        with open(e, 'r', encoding='utf-8') as entrada:\n",
        "            linhas = entrada.readlines()\n",
        "    except FileNotFoundError:\n",
        "        print(f\"Erro: arquivo '{e}' não encontrado.\")\n",
        "        return\n",
        "\n",
        "    with open(s, 'w', encoding='utf-8') as saida:\n",
        "        for linha in linhas:\n",
        "            linha = linha.strip()\n",
        "            if linha != '':\n",
        "                try:\n",
        "                    numero = float(linha)\n",
        "                except ValueError:\n",
        "                    print(f\"Atenção: '{linha}' não é um número válido e será ignorado.\")\n",
        "                    continue\n",
        "\n",
        "                if numero > 0:\n",
        "                    classificacao = \"Positivo\"\n",
        "                elif numero < 0:\n",
        "                    classificacao = \"Negativo\"\n",
        "                else:\n",
        "                    classificacao = \"Zero\"\n",
        "\n",
        "                saida.write(f\"{numero}: {classificacao}\\n\")\n",
        "    \n",
        "    print(f\"Classificação concluída! Resultado salvo em '{s}'.\")\n",
        "\n",
        "# Criando arquivo de teste\n",
        "with open('entrada_teste.txt', 'w', encoding='utf-8') as f:\n",
        "    f.writelines([\n",
        "        \"10\\n\",\n",
        "        \"-5\\n\",\n",
        "        \"0\\n\",\n",
        "        \"3.7\\n\",\n",
        "        \"-2.3\\n\",\n",
        "        \"abc\\n\",   # linha inválida para testar o aviso\n",
        "        \"0.0\\n\"\n",
        "    ])\n",
        "print(\"Arquivo de teste 'entrada_teste.txt' criado!\")\n",
        "\n",
        "# Teste\n",
        "classificar_numeros_em_arquivo('entrada_teste.txt','saida_teste.txt')\n"
      ]
    },
    {
      "cell_type": "markdown",
      "metadata": {
        "id": "5db35a70"
      },
      "source": [
        "## Exercício 4\n",
        "\n",
        "Crie uma função Python chamada `processar_dados_alunos` que receba como argumento o nome de um arquivo de texto. Este arquivo conterá dados de alunos no formato \"Nome,Nota1,Nota2,Nota3\", uma linha por aluno. Dentro da função, abra o arquivo para leitura. Para cada linha do arquivo, leia o nome do aluno e suas três notas. Calcule a média das três notas para cada aluno. Determine se o aluno foi aprovado (média >= 7.0) ou reprovado. Crie um novo arquivo de texto chamado \"resultados_alunos.txt\". Escreva no novo arquivo, para cada aluno, o nome e sua situação (Aprovado ou Reprovado) no formato \"Nome: Situação\". A função deve tratar possíveis erros de arquivo não encontrado e linhas com formato inválido ou notas não numéricas."
      ]
    },
    {
      "cell_type": "code",
      "execution_count": null,
      "metadata": {
        "id": "fe7e75dd"
      },
      "outputs": [
        {
          "name": "stdout",
          "output_type": "stream",
          "text": [
            "Atenção: notas inválidas na linha 'Sofia,abc,8,9' serão ignoradas.\n",
            "Atenção: notas fora do intervalo 0-10 na linha 'Carlos,11,7,6' serão ignoradas.\n",
            "Processamento concluído! Resultado salvo em 'resultados_alunos.txt'.\n"
          ]
        }
      ],
      "source": [
        "# Digite seu código aqui\n",
        "def processar_dados_alunos(txt):\n",
        "    try:\n",
        "        with open(txt, 'r', encoding='utf-8') as entrada:\n",
        "            linhas = entrada.readlines()\n",
        "    except FileNotFoundError:\n",
        "        print(f\"Erro: arquivo '{txt}' não encontrado.\")\n",
        "        return\n",
        "\n",
        "    with open('resultados_alunos.txt', 'w', encoding='utf-8') as saida:\n",
        "        for linha in linhas:\n",
        "            linha = linha.strip()\n",
        "            if linha == '':\n",
        "                continue  # pula linhas vazias\n",
        "\n",
        "            partes = linha.split(',')\n",
        "            if len(partes) != 4:\n",
        "                print(f\"Atenção: linha inválida '{linha}' será ignorada.\")\n",
        "                continue\n",
        "\n",
        "            nome = partes[0]\n",
        "            try:\n",
        "                notas = [float(n) for n in partes[1:]]\n",
        "            except ValueError:\n",
        "                print(f\"Atenção: notas inválidas na linha '{linha}' serão ignoradas.\")\n",
        "                continue\n",
        "\n",
        "            # Validação de notas válidas\n",
        "            if any(n < 0 or n > 10 for n in notas):\n",
        "                print(f\"Atenção: notas fora do intervalo 0-10 na linha '{linha}' serão ignoradas.\")\n",
        "                continue\n",
        "\n",
        "            media = sum(notas) / 3\n",
        "            situacao = \"Aprovado\" if media >= 7.0 else \"Reprovado\"\n",
        "            saida.write(f\"{nome}: {situacao}\\n\")\n",
        "\n",
        "    print(\"Processamento concluído! Resultado salvo em 'resultados_alunos.txt'.\")\n",
        "\n",
        "# Criando um arquivo de teste \n",
        "with open('alunos_teste.txt', 'w', encoding='utf-8') as f:\n",
        "    f.write(\"João,8,7.5,9\\n\")\n",
        "    f.write(\"Maria,10,9,8\\n\")\n",
        "    f.write(\"Pedro,6,5,7\\n\")\n",
        "    f.write(\"Ana,7,7,7\\n\")\n",
        "    f.write(\"Lucas,9,10,10\\n\")\n",
        "    f.write(\"Sofia,abc,8,9\\n\")   # linha com nota inválida\n",
        "    f.write(\"Carlos,11,7,6\\n\")   # linha com nota acima de 10\n",
        "# Teste\n",
        "processar_dados_alunos('alunos_teste.txt')\n"
      ]
    },
    {
      "cell_type": "markdown",
      "metadata": {
        "id": "be95af3c"
      },
      "source": [
        "## Exercício 5\n",
        "\n",
        "Crie uma função Python chamada `processar_vendas_manual` que receba como argumentos o nome de um arquivo CSV de entrada e o nome de um arquivo CSV de saída. O arquivo de entrada conterá dados de vendas com as colunas \"Produto\", \"Quantidade\" e \"Preco_Unitario\".\n",
        "\n",
        "Dentro da função, abra o arquivo CSV de entrada para leitura. Leia cada linha do arquivo, **manualmente (sem usar bibliotecas como `csv`)** dividindo a linha pelas vírgulas. Para cada item de venda, calcule o \"Valor_Total\" multiplicando a \"Quantidade\" pelo \"Preco_Unitario\". Certifique-se de converter \"Quantidade\" para inteiro e \"Preco_Unitario\" para float.\n",
        "\n",
        "Crie um novo arquivo CSV de saída. Para cada linha do arquivo de entrada , escreva no arquivo de saída as informações originais (\"Produto\", \"Quantidade\", \"Preco_unitario\") e o \"Valor_Total\" calculado, separando os valores por vírgulas.\n",
        "\n",
        "A função deve tratar possíveis erros, como arquivo de entrada não encontrado, linhas com formato inválido ou valores não numéricos para Quantidade e Preco_Unitario."
      ]
    },
    {
      "cell_type": "code",
      "execution_count": 2,
      "metadata": {
        "id": "ef951baa"
      },
      "outputs": [
        {
          "name": "stdout",
          "output_type": "stream",
          "text": [
            "Valores inválidos na linha, ignorando: Lapis,abc,1.0\n",
            "Arquivo 'saida_vendas.csv' criado com sucesso!\n"
          ]
        }
      ],
      "source": [
        "# Digite seu código aqui\n",
        "def processar_vendas_manual(e, s):\n",
        "    try:\n",
        "        with open(e, 'r', encoding='utf-8') as f_in:\n",
        "            linhas = f_in.readlines()\n",
        "        \n",
        "        if not linhas:\n",
        "            print(\"O arquivo de entrada está vazio.\")\n",
        "            return\n",
        "        \n",
        "        cabecalho = linhas[0].strip().split(',')\n",
        "        if len(cabecalho) != 3:\n",
        "            print(\"Cabeçalho de entrada inválido.\")\n",
        "            return\n",
        "        \n",
        "        dados_processados = []\n",
        "        for linha in linhas[1:]:\n",
        "            linha = linha.strip()\n",
        "            if not linha:\n",
        "                continue\n",
        "            partes = linha.split(',')\n",
        "            if len(partes) != 3:\n",
        "                print(f\"Linha inválida ignorada: {linha}\")\n",
        "                continue\n",
        "            produto, quantidade, preco_unitario = partes\n",
        "            try:\n",
        "                quantidade = int(quantidade)\n",
        "                preco_unitario = float(preco_unitario)\n",
        "                valor_total = quantidade * preco_unitario\n",
        "                dados_processados.append([produto, quantidade, preco_unitario, valor_total])\n",
        "            except ValueError:\n",
        "                print(f\"Valores inválidos na linha, ignorando: {linha}\")\n",
        "        \n",
        "        with open(s, 'w', encoding='utf-8') as f_out:\n",
        "            f_out.write(\"Produto,Quantidade,Preco_Unitario,Valor_Total\\n\")\n",
        "            for produto, quantidade, preco_unitario, valor_total in dados_processados:\n",
        "                f_out.write(f\"{produto},{quantidade},{preco_unitario},{valor_total:.2f}\\n\")\n",
        "        \n",
        "        print(f\"Arquivo '{s}' criado com sucesso!\")\n",
        "    \n",
        "    except FileNotFoundError:\n",
        "        print(f\"Arquivo de entrada '{e}' não encontrado.\")\n",
        "\n",
        "# Criando um arquivo de entrada de teste\n",
        "with open('entrada_vendas.csv', 'w', encoding='utf-8') as f:\n",
        "    f.write(\"Produto,Quantidade,Preco_Unitario\\n\")\n",
        "    f.write(\"Caneta,10,1.5\\n\")\n",
        "    f.write(\"Caderno,5,7.2\\n\")\n",
        "    f.write(\"Borracha,3,0.8\\n\")\n",
        "    f.write(\"Lapis,abc,1.0\\n\")  # Linha com erro de valor\n",
        "    f.write(\"Mochila,2,50\\n\")\n",
        "# Teste\n",
        "processar_vendas_manual('entrada_vendas.csv', 'saida_vendas.csv')\n",
        "\n"
      ]
    }
  ],
  "metadata": {
    "colab": {
      "provenance": []
    },
    "kernelspec": {
      "display_name": "Python 3",
      "name": "python3"
    },
    "language_info": {
      "codemirror_mode": {
        "name": "ipython",
        "version": 3
      },
      "file_extension": ".py",
      "mimetype": "text/x-python",
      "name": "python",
      "nbconvert_exporter": "python",
      "pygments_lexer": "ipython3",
      "version": "3.12.1"
    }
  },
  "nbformat": 4,
  "nbformat_minor": 0
}
