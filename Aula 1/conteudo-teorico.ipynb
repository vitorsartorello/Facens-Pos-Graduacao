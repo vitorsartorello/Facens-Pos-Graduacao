{
  "cells": [
    {
      "cell_type": "markdown",
      "metadata": {
        "id": "2f2cfe90"
      },
      "source": [
        "# História do python\n",
        "\n",
        "Python é uma linguagem de programação de alto nível, interpretada, de script, imperativa, orientada a objetos, funcional, de tipagem dinâmica e forte. Foi criada por Guido van Rossum no final dos anos 80 e lançada pela primeira vez em 1991. Guido van Rossum idealizou o Python com o objetivo de criar uma linguagem que fosse fácil de ler e escrever, com sintaxe clara e concisa, tornando o desenvolvimento de software mais eficiente e menos propenso a erros.\n",
        "\n",
        "Os principais problemas que o Python foi projetado para resolver incluem:\n",
        "\n",
        "*   **Legibilidade do código:** A sintaxe do Python é muito clara, utilizando indentação para definir blocos de código, o que facilita a leitura e manutenção.\n",
        "*   **Simplicidade:** Python reduz a complexidade de tarefas comuns, permitindo que os desenvolvedores se concentrem na lógica do problema em vez de detalhes de implementação de baixo nível.\n",
        "*   **Versatilidade:** Python é uma linguagem multipropósito, utilizada em diversas áreas como desenvolvimento web, análise de dados, inteligência artificial, automação, computação científica e muito mais.\n",
        "*   **Produtividade:** Com sua vasta biblioteca padrão e grande comunidade, Python permite desenvolver aplicações rapidamente.\n",
        "\n",
        "Em resumo, Python foi criado para ser uma linguagem poderosa, mas acessível, que pudesse ser utilizada para resolver uma ampla gama de problemas de programação de forma eficiente e elegante.\n"
      ]
    },
    {
      "cell_type": "markdown",
      "metadata": {
        "id": "b3100ce9"
      },
      "source": [
        "# Algoritmos\n",
        "\n",
        "Em termos simples, um **algoritmo** é um conjunto finito de instruções bem definidas e ordenadas para resolver um problema ou realizar uma tarefa específica. Pense nele como uma receita de bolo: uma sequência de passos que, se seguidos corretamente, levam ao resultado desejado (o bolo pronto!).\n",
        "\n",
        "Algoritmos são a base da programação de computadores. Eles descrevem a lógica por trás de um programa, indicando ao computador exatamente o que fazer e em que ordem para alcançar um objetivo. Um bom algoritmo é eficiente (usa poucos recursos) e correto (sempre produz o resultado esperado).\n"
      ]
    },
    {
      "cell_type": "code",
      "metadata": {
        "colab": {
          "base_uri": "https://localhost:8080/"
        },
        "id": "f446b023",
        "outputId": "bd3e19f3-6571-4e3f-a829-2ce691f08c17"
      },
      "source": [
        "# Algoritmo para calcular a soma dos números de 1 a N\n",
        "\n",
        "def soma_ate_n(n):\n",
        "  \"\"\"Calcula a soma de todos os números inteiros positivos de 1 até n.\"\"\"\n",
        "  if n < 1:\n",
        "    return \"N deve ser um número inteiro positivo.\"\n",
        "  soma = 0\n",
        "  for i in range(1, n + 1):\n",
        "    soma += i\n",
        "  return soma\n",
        "\n",
        "# Exemplo de uso:\n",
        "N = 10\n",
        "resultado_soma = soma_ate_n(N)\n",
        "print(\"A soma dos números de 1 a \" + str(N) + \" é: \" + str(resultado_soma))\n",
        "\n",
        "N = 5\n",
        "resultado_soma = soma_ate_n(N)\n",
        "print(\"A soma dos números de 1 a \" + str(N) + \" é: \" + str(resultado_soma))"
      ],
      "execution_count": 45,
      "outputs": [
        {
          "output_type": "stream",
          "name": "stdout",
          "text": [
            "A soma dos números de 1 a 10 é: 55\n",
            "A soma dos números de 1 a 5 é: 15\n"
          ]
        }
      ]
    },
    {
      "cell_type": "code",
      "metadata": {
        "colab": {
          "base_uri": "https://localhost:8080/"
        },
        "id": "96897e70",
        "outputId": "3146b883-09ab-47e4-d8cf-0a54bffc9c87"
      },
      "source": [
        "# Algoritmo para encontrar o maior número em uma lista\n",
        "\n",
        "def encontrar_maior_numero(lista):\n",
        "  \"\"\"Encontra o maior número em uma lista de números.\"\"\"\n",
        "  if not lista:\n",
        "    return \"A lista não pode estar vazia.\"\n",
        "  maior = lista[0] # Assume que o primeiro elemento é o maior inicialmente\n",
        "  for numero in lista:\n",
        "    if numero > maior:\n",
        "      maior = numero\n",
        "  return maior\n",
        "\n",
        "# Exemplo de uso:\n",
        "numeros = [12, 45, 6, 78, 34, 99, 23]\n",
        "maior_numero = encontrar_maior_numero(numeros)\n",
        "print(\"A lista é: \" + str(numeros))\n",
        "print(\"O maior número na lista é: \" + str(maior_numero))\n",
        "\n",
        "numeros_vazios = []\n",
        "maior_numero = encontrar_maior_numero(numeros_vazios)\n",
        "print(\"A lista é: \" + str(numeros_vazios))\n",
        "print(\"O maior número na lista é: \" + str(maior_numero))"
      ],
      "execution_count": 46,
      "outputs": [
        {
          "output_type": "stream",
          "name": "stdout",
          "text": [
            "A lista é: [12, 45, 6, 78, 34, 99, 23]\n",
            "O maior número na lista é: 99\n",
            "A lista é: []\n",
            "O maior número na lista é: A lista não pode estar vazia.\n"
          ]
        }
      ]
    },
    {
      "cell_type": "markdown",
      "metadata": {
        "id": "0300e7b9"
      },
      "source": [
        "# Gerenciamento de Pacotes e Ambientes em Python: PIP, Virtualenv e Anaconda\n",
        "\n",
        "Ao desenvolver em Python, você frequentemente precisará instalar bibliotecas e pacotes adicionais que não vêm com a instalação padrão. Além disso, diferentes projetos podem depender de diferentes versões das mesmas bibliotecas. Para gerenciar essas dependências de forma eficiente, usamos ferramentas como PIP, Virtualenv e Anaconda.\n",
        "\n",
        "## PIP (Package Installer for Python)\n",
        "\n",
        "**O que é:** PIP é o gerenciador de pacotes padrão do Python. Ele permite que você instale, atualize e remova pacotes de software Python (distribuídos no Python Package Index - PyPI).\n",
        "\n",
        "**Função:** Sua principal função é simplificar o processo de adicionar funcionalidades ao seu projeto Python, baixando e instalando bibliotecas de terceiros com um comando simples.\n",
        "\n",
        "**Exemplo de Uso:**\n",
        "\n",
        "Para instalar uma biblioteca popular como o `requests` (usada para fazer requisições HTTP):\n",
        "\n",
        "```bash\n",
        "pip install requests\n",
        "```\n",
        "\n",
        "Para listar os pacotes instalados:\n",
        "\n",
        "```bash\n",
        "pip list\n",
        "```\n",
        "\n",
        "Para desinstalar um pacote:\n",
        "\n",
        "```bash\n",
        "pip uninstall requests\n",
        "```\n",
        "\n",
        "## Virtualenv\n",
        "\n",
        "**O que é:** Virtualenv é uma ferramenta para criar ambientes Python isolados. Cada ambiente virtual é um diretório que contém sua própria instalação Python, seus próprios pacotes PIP e suas próprias configurações.\n",
        "\n",
        "**Por que usar:** A principal razão para usar ambientes virtuais é evitar conflitos de dependência entre diferentes projetos. Se você tem dois projetos que precisam de versões diferentes da mesma biblioteca, você pode criar um ambiente virtual separado para cada projeto, garantindo que as dependências de um não afetem o outro.\n",
        "\n",
        "**Exemplo de Uso:**\n",
        "\n",
        "Para criar um novo ambiente virtual chamado `meu_projeto_env` no diretório atual:\n",
        "\n",
        "```bash\n",
        "virtualenv meu_projeto_env\n",
        "# ou para Python 3:\n",
        "python3 -m venv meu_projeto_env\n",
        "```\n",
        "\n",
        "Para ativar o ambiente virtual (no Linux/macOS):\n",
        "\n",
        "```bash\n",
        "source meu_projeto_env/bin/activate\n",
        "```\n",
        "\n",
        "Para ativar o ambiente virtual (no Windows - Command Prompt):\n",
        "\n",
        "```bash\n",
        "meu_projeto_env\\Scripts\\activate.bat\n",
        "```\n",
        "\n",
        "Para ativar o ambiente virtual (no Windows - PowerShell):\n",
        "\n",
        "```powershell\n",
        "meu_projeto_env\\Scripts\\Activate.ps1\n",
        "```\n",
        "\n",
        "Uma vez ativado, qualquer pacote instalado com `pip install` será instalado apenas dentro deste ambiente virtual.\n",
        "\n",
        "Para desativar o ambiente virtual:\n",
        "\n",
        "```bash\n",
        "deactivate\n",
        "```\n",
        "\n",
        "## Anaconda\n",
        "\n",
        "**O que é:** Anaconda é uma distribuição Python e R de código aberto, amplamente utilizada em ciência de dados, machine learning e análise de dados. Ele inclui o gerenciador de pacotes e ambientes `conda`.\n",
        "\n",
        "**Como se diferencia do PIP e Virtualenv:**\n",
        "\n",
        "*   **Abrangência:** Anaconda não gerencia apenas pacotes Python, mas também pacotes para outras linguagens (como R) e dependências de sistema (como bibliotecas C/C++), o que é crucial para muitos pacotes científicos.\n",
        "*   **Gerenciador de Pacotes (`conda`):** O `conda` é um gerenciador de pacotes mais poderoso que o PIP, capaz de gerenciar pacotes binários e não apenas pacotes Python. Ele também resolve dependências de forma mais robusta.\n",
        "*   **Gerenciador de Ambientes:** O `conda` também gerencia ambientes virtuais de forma semelhante ao Virtualenv, mas com a capacidade adicional de gerenciar dependências de sistema.\n",
        "*   **Pacotes Pré-instalados:** A distribuição Anaconda vem com centenas de pacotes populares de ciência de dados pré-instalados, como NumPy, pandas, scikit-learn, Jupyter Notebook, etc.\n",
        "\n",
        "**Uso:** Anaconda é ideal para quem trabalha extensivamente com ciência de dados, machine learning ou qualquer área que exija muitas bibliotecas externas e gerenciamento complexo de dependências.\n",
        "\n",
        "**Exemplo de Uso com Conda:**\n",
        "\n",
        "Para criar um novo ambiente conda chamado `meu_env_conda` com Python 3.8 e a biblioteca numpy:\n",
        "\n",
        "```bash\n",
        "conda create --name meu_env_conda python=3.8 numpy\n",
        "```\n",
        "\n",
        "Para ativar o ambiente conda:\n",
        "\n",
        "```bash\n",
        "conda activate meu_env_conda\n",
        "```\n",
        "\n",
        "Para instalar um pacote no ambiente ativo:\n",
        "\n",
        "```bash\n",
        "conda install pandas\n",
        "```\n",
        "\n",
        "Para listar os ambientes conda:\n",
        "\n",
        "```bash\n",
        "conda env list\n",
        "```\n",
        "\n",
        "Para desativar o ambiente conda:\n",
        "\n",
        "```bash\n",
        "conda deactivate\n",
        "```\n",
        "\n",
        "Em resumo, PIP é o gerenciador de pacotes padrão, Virtualenv cria ambientes isolados para projetos Python, e Anaconda (com conda) é uma solução mais completa para gerenciamento de pacotes e ambientes, especialmente voltada para o ecossistema de ciência de dados. Embora possam ser usados independentemente, muitas vezes são complementares (por exemplo, usando pip dentro de um ambiente virtual criado com virtualenv).\n"
      ]
    },
    {
      "cell_type": "markdown",
      "metadata": {
        "id": "a7d5dd1e"
      },
      "source": [
        "# Variáveis e Estruturas de Dados em Python\n",
        "\n",
        "\n",
        "\n"
      ]
    },
    {
      "cell_type": "markdown",
      "source": [
        "## Declaração de Variáveis\n",
        "Em Python, declarar uma variável é simplesmente atribuir um valor a um nome. Diferente de muitas outras linguagens de programação, você não precisa declarar explicitamente o tipo de dado da variável antes de usá-la. O Python utiliza tipagem dinâmica, o que significa que o tipo da variável é determinado em tempo de execução, com base no valor que lhe é atribuído."
      ],
      "metadata": {
        "id": "KsnEu8yWu8yK"
      }
    },
    {
      "cell_type": "code",
      "source": [
        "nome = \"Alice\" # Variável do tipo string\n",
        "idade = 30 # Variável do tipo inteiro\n",
        "altura = 1.75 # Variável do tipo float\n",
        "is_estudante = True # Variável do tipo booleano\n",
        "\n",
        "print(\"Nome: \" + nome)\n",
        "print(\"Idade: \" + str(idade))\n",
        "print(\"Altura: \" + str(altura))\n",
        "print(\"É estudante: \" + str(is_estudante))"
      ],
      "metadata": {
        "id": "IuQMVaeVvGsN",
        "outputId": "5fe77463-70da-400f-b0c8-84b18cd6cbbd",
        "colab": {
          "base_uri": "https://localhost:8080/"
        }
      },
      "execution_count": 47,
      "outputs": [
        {
          "output_type": "stream",
          "name": "stdout",
          "text": [
            "Nome: Alice\n",
            "Idade: 30\n",
            "Altura: 1.75\n",
            "É estudante: True\n"
          ]
        }
      ]
    },
    {
      "cell_type": "markdown",
      "source": [
        "## Estruturas de Dados Nativas do Python\n",
        "\n",
        "Python oferece várias estruturas de dados nativas que são fundamentais para organizar e manipular coleções de dados."
      ],
      "metadata": {
        "id": "R9Wg9WpnNLPf"
      }
    },
    {
      "cell_type": "markdown",
      "source": [
        "### Listas (Lists)\n",
        "\n",
        "*   **Característica Principal:** Coleção ordenada, mutável e que permite elementos duplicados. As listas são definidas por colchetes `[]`.\n",
        "*   **Uso:** Ideal para coleções de itens onde a ordem importa e os elementos podem mudar.\n"
      ],
      "metadata": {
        "id": "yaNepSIiLhBb"
      }
    },
    {
      "cell_type": "code",
      "source": [
        "frutas = [\"maçã\", \"banana\", \"cereja\", \"maçã\"]\n",
        "print(\"Lista de frutas: \" + str(frutas))\n",
        "print(\"Primeira fruta: \" + frutas[0])\n",
        "frutas.append(\"laranja\") # Adicionando um elemento\n",
        "print(\"Lista após adicionar: \" + str(frutas))\n",
        "frutas[1] = \"uva\" # Modificando um elemento\n",
        "print(\"Lista após modificar: \" + str(frutas))"
      ],
      "metadata": {
        "colab": {
          "base_uri": "https://localhost:8080/"
        },
        "id": "yoXAbnmYL-2u",
        "outputId": "bc9cce49-9e6d-4748-d504-c777941fef0b"
      },
      "execution_count": 48,
      "outputs": [
        {
          "output_type": "stream",
          "name": "stdout",
          "text": [
            "Lista de frutas: ['maçã', 'banana', 'cereja', 'maçã']\n",
            "Primeira fruta: maçã\n",
            "Lista após adicionar: ['maçã', 'banana', 'cereja', 'maçã', 'laranja']\n",
            "Lista após modificar: ['maçã', 'uva', 'cereja', 'maçã', 'laranja']\n"
          ]
        }
      ]
    },
    {
      "cell_type": "markdown",
      "source": [
        "### Tuplas (Tuples)\n",
        "\n",
        "*   **Característica Principal:** Coleção ordenada, imutável e que permite elementos duplicados. As tuplas são definidas por parênteses `()`.\n",
        "*   **Uso:** Usada para coleções de itens que não devem ser alterados.\n",
        "python\n"
      ],
      "metadata": {
        "id": "TWnJu1j0LmP6"
      }
    },
    {
      "cell_type": "code",
      "source": [
        "coordenadas = (10.0, 20.0)\n",
        "print(\"Coordenadas: \" + str(coordenadas))\n",
        "print(\"Latitude: \" + str(coordenadas[0]))\n",
        "# coordenadas[0] = 15.0 # Isso geraria um erro, pois tuplas são imutáveis"
      ],
      "metadata": {
        "colab": {
          "base_uri": "https://localhost:8080/"
        },
        "id": "yiwIlg2xMIG8",
        "outputId": "417c2b82-a6f3-4fad-f4aa-0e70f149b927"
      },
      "execution_count": 49,
      "outputs": [
        {
          "output_type": "stream",
          "name": "stdout",
          "text": [
            "Coordenadas: (10.0, 20.0)\n",
            "Latitude: 10.0\n"
          ]
        }
      ]
    },
    {
      "cell_type": "markdown",
      "source": [
        "### Dicionários (Dictionaries)\n",
        "\n",
        "*   **Característica Principal:** Coleção mutável, que armazena dados em pares de chave-valor. As chaves devem ser únicas e imutáveis. Os dicionários são definidos por chaves `{}`.\n",
        "*   **Uso:** Ideal para representar dados estruturados onde cada valor está associado a uma chave única.\n",
        "python\n"
      ],
      "metadata": {
        "id": "dWNrajq3Lr7B"
      }
    },
    {
      "cell_type": "code",
      "source": [
        "pessoa = {\n",
        "    \"nome\": \"Maria\",\n",
        "    \"idade\": 25,\n",
        "    \"cidade\": \"São Paulo\"\n",
        "}\n",
        "print(\"Dicionário pessoa: \" + str(pessoa))\n",
        "print(\"Nome da pessoa: \" + pessoa['nome'])\n",
        "pessoa[\"idade\"] = 26 # Modificando um valor\n",
        "pessoa[\"profissão\"] = \"Engenheira\" # Adicionando um novo par chave-valor\n",
        "print(\"Dicionário após modificações: \" + str(pessoa))"
      ],
      "metadata": {
        "colab": {
          "base_uri": "https://localhost:8080/"
        },
        "id": "7dJlFTElMneZ",
        "outputId": "c14d1439-90da-40a7-c2d6-a0b88fb5dd95"
      },
      "execution_count": 50,
      "outputs": [
        {
          "output_type": "stream",
          "name": "stdout",
          "text": [
            "Dicionário pessoa: {'nome': 'Maria', 'idade': 25, 'cidade': 'São Paulo'}\n",
            "Nome da pessoa: Maria\n",
            "Dicionário após modificações: {'nome': 'Maria', 'idade': 26, 'cidade': 'São Paulo', 'profissão': 'Engenheira'}\n"
          ]
        }
      ]
    },
    {
      "cell_type": "markdown",
      "source": [
        "### Conjuntos (Sets)\n",
        "\n",
        "*   **Característica Principal:** Coleção não ordenada, mutável e que **não permite** elementos duplicados. Os conjuntos são definidos por chaves `{}` (assim como dicionários, mas contendo apenas valores, não pares chave-valor) ou pela função `set()`.\n",
        "*   **Uso:** Útil para operações matemáticas de conjunto (união, interseção, diferença) e para remover duplicados de uma coleção.\n",
        "python\n"
      ],
      "metadata": {
        "id": "qvttgSc2Lxje"
      }
    },
    {
      "cell_type": "code",
      "source": [
        "# Exemplo de Conjunto\n",
        "numeros = {1, 2, 3, 2, 1, 4}\n",
        "print(\"Conjunto de números: \" + str(numeros)) # Note que os duplicados foram removidos\n",
        "\n",
        "numeros.add(5) # Adicionando um elemento\n",
        "print(\"Conjunto após adicionar: \" + str(numeros))\n",
        "numeros.remove(2) # Removendo um elemento\n",
        "print(\"Conjunto após remover: \" + str(numeros))"
      ],
      "metadata": {
        "colab": {
          "base_uri": "https://localhost:8080/"
        },
        "id": "5y-YyZqBM3Ic",
        "outputId": "3542aa2b-dc54-4437-d2e6-84fcb69baf79"
      },
      "execution_count": 51,
      "outputs": [
        {
          "output_type": "stream",
          "name": "stdout",
          "text": [
            "Conjunto de números: {1, 2, 3, 4}\n",
            "Conjunto após adicionar: {1, 2, 3, 4, 5}\n",
            "Conjunto após remover: {1, 3, 4, 5}\n"
          ]
        }
      ]
    },
    {
      "cell_type": "code",
      "source": [
        "# Convertendo uma lista com duplicados para um conjunto para remover duplicados\n",
        "lista_com_duplicados = [10, 20, 30, 20, 10, 40]\n",
        "conjunto_sem_duplicados = set(lista_com_duplicados)\n",
        "print(\"Lista original: \" + str(lista_com_duplicados))\n",
        "print(\"Conjunto sem duplicados: \" + str(conjunto_sem_duplicados))"
      ],
      "metadata": {
        "colab": {
          "base_uri": "https://localhost:8080/"
        },
        "id": "rRBO4ck5M4oV",
        "outputId": "ca741b4e-393b-4f41-e0d1-d6ab0d2a2874"
      },
      "execution_count": 52,
      "outputs": [
        {
          "output_type": "stream",
          "name": "stdout",
          "text": [
            "Lista original: [10, 20, 30, 20, 10, 40]\n",
            "Conjunto sem duplicados: {40, 10, 20, 30}\n"
          ]
        }
      ]
    },
    {
      "cell_type": "markdown",
      "metadata": {
        "id": "0c43a3e4"
      },
      "source": [
        "# Estruturas de Controle\n",
        "\n",
        "Em Python, as estruturas de controle nos permitem alterar o fluxo de execução do programa com base em condições ou para repetir blocos de código.\n",
        "\n"
      ]
    },
    {
      "cell_type": "markdown",
      "source": [
        "## Condicionais (if, elif, else)\n",
        "\n",
        "As estruturas condicionais permitem que você execute diferentes blocos de código com base se uma condição é verdadeira ou falsa.\n",
        "\n",
        "*   **`if`**: Executa um bloco de código se a condição for verdadeira.\n",
        "*   **`elif` (else if)**: Verifica uma nova condição se a condição `if` anterior (e quaisquer `elif`'s anteriores) for falsa.\n",
        "*   **`else`**: Executa um bloco de código se nenhuma das condições anteriores (`if` ou `elif`) for verdadeira.\n",
        "\n",
        "\n",
        "\n"
      ],
      "metadata": {
        "id": "c-OKTVUtO1ZS"
      }
    },
    {
      "cell_type": "code",
      "source": [
        "idade = 18\n",
        "\n",
        "if idade < 13:\n",
        "    print(\"Você é uma criança.\")\n",
        "elif idade < 18:\n",
        "    print(\"Você é um adolescente.\")\n",
        "else:\n",
        "    print(\"Você é um adulto.\")"
      ],
      "metadata": {
        "colab": {
          "base_uri": "https://localhost:8080/"
        },
        "id": "7XRr_WhMPE7d",
        "outputId": "93937e61-7e70-49d2-a63a-84dcd015a578"
      },
      "execution_count": 53,
      "outputs": [
        {
          "output_type": "stream",
          "name": "stdout",
          "text": [
            "Você é um adulto.\n"
          ]
        }
      ]
    },
    {
      "cell_type": "markdown",
      "source": [
        "## Estruturas de Repetição (for, while)\n",
        "\n",
        "As estruturas de repetição, ou loops, permitem que você execute um bloco de código múltiplas vezes.\n",
        "\n"
      ],
      "metadata": {
        "id": "l-L8UjMOO43T"
      }
    },
    {
      "cell_type": "markdown",
      "source": [
        "### `for` Loop\n",
        "\n",
        "O `for` loop é usado para iterar sobre uma sequência (como uma lista, tupla, string ou range).\n",
        "\n"
      ],
      "metadata": {
        "id": "YGMw8pRxO7qY"
      }
    },
    {
      "cell_type": "code",
      "source": [
        "frutas = [\"maçã\", \"banana\", \"cereja\"]\n",
        "\n",
        "for fruta in frutas:\n",
        "    print(\"Eu gosto de \" + str(fruta))"
      ],
      "metadata": {
        "colab": {
          "base_uri": "https://localhost:8080/"
        },
        "id": "ncE-dXN-PJMi",
        "outputId": "639ac96e-c88f-4b68-bfa2-d2eae30486d2"
      },
      "execution_count": 54,
      "outputs": [
        {
          "output_type": "stream",
          "name": "stdout",
          "text": [
            "Eu gosto de maçã\n",
            "Eu gosto de banana\n",
            "Eu gosto de cereja\n"
          ]
        }
      ]
    },
    {
      "cell_type": "code",
      "source": [
        "# Iterando sobre um range de números\n",
        "for i in range(5): # range(5) gera uma sequência de 0 a 4\n",
        "    print(\"Contagem: \" + str(i))"
      ],
      "metadata": {
        "colab": {
          "base_uri": "https://localhost:8080/"
        },
        "id": "zk4DAYxMPKOF",
        "outputId": "7c822b5d-79aa-41f6-905f-524b26a1030c"
      },
      "execution_count": 55,
      "outputs": [
        {
          "output_type": "stream",
          "name": "stdout",
          "text": [
            "Contagem: 0\n",
            "Contagem: 1\n",
            "Contagem: 2\n",
            "Contagem: 3\n",
            "Contagem: 4\n"
          ]
        }
      ]
    },
    {
      "cell_type": "markdown",
      "source": [
        "### `while` Loop\n",
        "\n",
        "O `while` loop executa um bloco de código enquanto uma condição for verdadeira.\n"
      ],
      "metadata": {
        "id": "PAMiZni9O-hj"
      }
    },
    {
      "cell_type": "code",
      "source": [
        "contador = 0\n",
        "\n",
        "while contador < 5:\n",
        "    print(\"Contador: \" + str(contador))\n",
        "    contador += 1 # Incrementa o contador para eventualmente parar o loop"
      ],
      "metadata": {
        "colab": {
          "base_uri": "https://localhost:8080/"
        },
        "id": "Gql7EIYrPPy5",
        "outputId": "1f307a3b-6543-422d-867e-4ed505c44bb6"
      },
      "execution_count": 56,
      "outputs": [
        {
          "output_type": "stream",
          "name": "stdout",
          "text": [
            "Contador: 0\n",
            "Contador: 1\n",
            "Contador: 2\n",
            "Contador: 3\n",
            "Contador: 4\n"
          ]
        }
      ]
    }
  ],
  "metadata": {
    "colab": {
      "name": "Welcome To Colab",
      "provenance": [],
      "toc_visible": true
    },
    "kernelspec": {
      "display_name": "Python 3",
      "name": "python3"
    }
  },
  "nbformat": 4,
  "nbformat_minor": 0
}