{
 "cells": [
  {
   "cell_type": "markdown",
   "id": "89b8286c-b3f1-4cd7-b7cf-59b8ea684517",
   "metadata": {},
   "source": [
    "## Atividade 1: Contar Frequência de Palavras\n",
    "\n",
    "1. Crie uma variável texto com uma frase de sua escolha.\n",
    "\n",
    "2. Crie um dicionário vazio chamado contagem_palavras.\n",
    "\n",
    "3. Separe a frase em palavras (dica: use o método .split()).\n",
    "\n",
    "4. Use um laço de repetição for para percorrer a lista de palavras.\n",
    "\n",
    "5. Dentro do loop, use um condicional (if/else) para verificar se a palavra já é uma chave no dicionário contagem_palavras.\n",
    "\n",
    "6. Se a palavra existir, incremente seu valor em 1.\n",
    "\n",
    "7. Se não existir, adicione a palavra como uma nova chave com o valor 1.\n",
    "\n",
    "8. Ao final, imprima o dicionário contagem_palavras."
   ]
  },
  {
   "cell_type": "code",
   "execution_count": 1,
   "id": "69783cb5-5476-40d8-865b-ab1d47daeb25",
   "metadata": {},
   "outputs": [],
   "source": [
    "# Escreva o código aqui"
   ]
  },
  {
   "cell_type": "markdown",
   "id": "693da2e9-2bc6-4c8f-ae96-f6b03f4a82f7",
   "metadata": {},
   "source": [
    "## Atividade 2: Analisar Dados de Alunos\n",
    "\n",
    "1. Crie uma lista chamada alunos, onde cada item é um dicionário com as chaves \"nome\" e \"nota\". Adicione pelo menos 4 alunos.\n",
    "\n",
    "2. Crie uma variável soma_notas e inicialize-a com 0.\n",
    "\n",
    "3. Crie uma variável melhor_aluno como um dicionário vazio.\n",
    "\n",
    "4. Use um laço de repetição for para iterar sobre a lista alunos.\n",
    "\n",
    "5. Dentro do loop, adicione a nota de cada aluno à soma_notas.\n",
    "\n",
    "6. Use um condicional para verificar se a nota do aluno atual é maior que a nota armazenada em melhor_aluno. Se sim, atualize o dicionário melhor_aluno com os dados do aluno atual.\n",
    "\n",
    "7. Após o loop, calcule a média da turma (soma_notas dividida pelo número de alunos) e imprima o nome do aluno com a maior nota e a média da turma."
   ]
  },
  {
   "cell_type": "code",
   "execution_count": 2,
   "id": "efb0d640-8d2e-405f-9c05-fbce9306e3c0",
   "metadata": {},
   "outputs": [],
   "source": [
    "# Escreva o código aqui"
   ]
  },
  {
   "cell_type": "markdown",
   "id": "6d4aa6eb-3acc-4fbf-8dc3-b1de51101eeb",
   "metadata": {},
   "source": [
    "## Atividade 3: Gerar um Tabuleiro de Xadrez\n",
    "\n",
    "1. Crie uma lista vazia chamada tabuleiro.\n",
    "\n",
    "2. Use um laço de repetição for externo para iterar 8 vezes (representando as linhas).\n",
    "\n",
    "3. Dentro dele, crie uma lista vazia chamada linha.\n",
    "\n",
    "4. Use um laço de repetição for interno para iterar 8 vezes (representando as colunas).\n",
    "\n",
    "5. Dentro do loop interno, use um condicional para adicionar uma string que representa a cor da casa ('preto' ou 'branco') à linha, alternando a cor a cada passo.\n",
    "\n",
    "6. Adicione a linha completa ao tabuleiro após o loop interno.\n",
    "\n",
    "7. Imprima o tabuleiro completo."
   ]
  },
  {
   "cell_type": "code",
   "execution_count": 3,
   "id": "1bbb6d13-61e1-46d8-b018-b2852b6f2b39",
   "metadata": {},
   "outputs": [],
   "source": [
    "# Escreva o código aqui"
   ]
  },
  {
   "cell_type": "markdown",
   "id": "bbaa181f-1687-404c-bdaa-44ed8fddccf3",
   "metadata": {},
   "source": [
    "## Atividade 4: Análise de Dados de Sensores\n",
    "\n",
    "1. Crie uma lista de dicionários chamada leituras_sensores, onde cada dicionário tem as chaves \"sensor_id\", \"valor\" (numérico) e \"data\" (string). Adicione pelo menos 5 leituras.\n",
    "\n",
    "2. Crie variáveis para a soma dos valores, o maior valor, o menor valor e a contagem de leituras.\n",
    "\n",
    "3. Crie um dicionário vazio chamado alertas para armazenar leituras com valor acima de um limite (por exemplo, 30).\n",
    "\n",
    "4. Use um laço de repetição for para percorrer a lista leituras_sensores.\n",
    "\n",
    "5. Dentro do loop, atualize as variáveis de soma, maior e menor valor.\n",
    "\n",
    "6. Use um condicional (if) para verificar se o valor da leitura é maior que o limite. Se sim, adicione a leitura completa ao dicionário alertas com o sensor_id como chave.\n",
    "\n",
    "7. Após o loop, calcule a média dos valores e imprima um relatório com o valor médio, o maior valor, o menor valor e o dicionário alertas com as leituras que ultrapassaram o limite."
   ]
  },
  {
   "cell_type": "code",
   "execution_count": 4,
   "id": "52851988-3032-40eb-8c44-8a8eb2d2bb7e",
   "metadata": {},
   "outputs": [],
   "source": [
    "# Escreva o código aqui"
   ]
  },
  {
   "cell_type": "markdown",
   "id": "6e53f9c4-3f20-4722-9ec7-62d16c3f5a0a",
   "metadata": {},
   "source": [
    "## Atividade 5: Consolidação e Limpeza de Dados de Múltiplas Fontes\n",
    "\n",
    "1. Crie duas listas de dicionários, sensores_leste e sensores_oeste, cada uma com pelo menos 3 dicionários. Cada dicionário deve ter as chaves \"id\", \"temperatura\" (numérico) e \"umidade\" (numérico). Inclua valores negativos ou nulos para simular dados inválidos.\n",
    "\n",
    "2. Crie uma lista vazia chamada dados_validos.\n",
    "\n",
    "3. Use loops de repetição para percorrer as duas listas de sensores. Dentro dos loops, use condicionais (if) para verificar se os valores de \"temperatura\" e \"umidade\" são positivos.\n",
    "\n",
    "4. Se os dados forem válidos, adicione o dicionário completo à lista dados_validos.\n",
    "\n",
    "5. Após os loops, use um laço for para iterar sobre a lista dados_validos. Calcule e armazene a temperatura média, a umidade média, a temperatura máxima e a umidade máxima.\n",
    "\n",
    "6. Use um dicionário para contar o número de leituras válidas de cada sensor (usando o \"id\" como chave).\n",
    "\n",
    "7. Imprima um relatório final com as médias, os valores máximos e a contagem de leituras por sensor."
   ]
  },
  {
   "cell_type": "code",
   "execution_count": null,
   "id": "9700132e-8de9-47c4-9f22-c390adb2cf7a",
   "metadata": {},
   "outputs": [],
   "source": [
    "# Escreva o código aqui"
   ]
  }
 ],
 "metadata": {
  "kernelspec": {
   "display_name": "Python 3 (ipykernel)",
   "language": "python",
   "name": "python3"
  },
  "language_info": {
   "codemirror_mode": {
    "name": "ipython",
    "version": 3
   },
   "file_extension": ".py",
   "mimetype": "text/x-python",
   "name": "python",
   "nbconvert_exporter": "python",
   "pygments_lexer": "ipython3",
   "version": "3.13.7"
  }
 },
 "nbformat": 4,
 "nbformat_minor": 5
}
