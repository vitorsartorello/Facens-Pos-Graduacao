{
 "cells": [
  {
   "cell_type": "markdown",
   "id": "89b8286c-b3f1-4cd7-b7cf-59b8ea684517",
   "metadata": {},
   "source": [
    "## Atividade 1: Contar Frequência de Palavras\n",
    "\n",
    "1. Crie uma variável texto com uma frase de sua escolha.\n",
    "\n",
    "2. Crie um dicionário vazio chamado contagem_palavras.\n",
    "\n",
    "3. Separe a frase em palavras (dica: use o método .split()).\n",
    "\n",
    "4. Use um laço de repetição for para percorrer a lista de palavras.\n",
    "\n",
    "5. Dentro do loop, use um condicional (if/else) para verificar se a palavra já é uma chave no dicionário contagem_palavras.\n",
    "\n",
    "6. Se a palavra existir, incremente seu valor em 1.\n",
    "\n",
    "7. Se não existir, adicione a palavra como uma nova chave com o valor 1.\n",
    "\n",
    "8. Ao final, imprima o dicionário contagem_palavras."
   ]
  },
  {
   "cell_type": "code",
   "execution_count": 3,
   "id": "69783cb5-5476-40d8-865b-ab1d47daeb25",
   "metadata": {},
   "outputs": [
    {
     "name": "stdout",
     "output_type": "stream",
     "text": [
      "{'eu': 1, 'gosto': 1, 'de': 1, 'aprender': 2, 'python': 1}\n"
     ]
    }
   ],
   "source": [
    "# Variável texto\n",
    "texto = \"eu gosto de aprender aprender python\"  # string\n",
    "\n",
    "contagem_palavras = {}  # dicionário vazio\n",
    "\n",
    "palavras = texto.split()  # divide a string em uma lista de palavras\n",
    "\n",
    "for palavra in palavras:\n",
    "    if palavra in contagem_palavras:\n",
    "        contagem_palavras[palavra] += 1\n",
    "    else:\n",
    "        contagem_palavras[palavra] = 1\n",
    "\n",
    "print(contagem_palavras)"
   ]
  },
  {
   "cell_type": "markdown",
   "id": "693da2e9-2bc6-4c8f-ae96-f6b03f4a82f7",
   "metadata": {},
   "source": [
    "## Atividade 2: Analisar Dados de Alunos\n",
    "\n",
    "1. Crie uma lista chamada alunos, onde cada item é um dicionário com as chaves \"nome\" e \"nota\". Adicione pelo menos 4 alunos.\n",
    "\n",
    "2. Crie uma variável soma_notas e inicialize-a com 0.\n",
    "\n",
    "3. Crie uma variável melhor_aluno como um dicionário vazio.\n",
    "\n",
    "4. Use um laço de repetição for para iterar sobre a lista alunos.\n",
    "\n",
    "5. Dentro do loop, adicione a nota de cada aluno à soma_notas.\n",
    "\n",
    "6. Use um condicional para verificar se a nota do aluno atual é maior que a nota armazenada em melhor_aluno. Se sim, atualize o dicionário melhor_aluno com os dados do aluno atual.\n",
    "\n",
    "7. Após o loop, calcule a média da turma (soma_notas dividida pelo número de alunos) e imprima o nome do aluno com a maior nota e a média da turma."
   ]
  },
  {
   "cell_type": "code",
   "execution_count": null,
   "id": "efb0d640-8d2e-405f-9c05-fbce9306e3c0",
   "metadata": {},
   "outputs": [
    {
     "name": "stdout",
     "output_type": "stream",
     "text": [
      "Melhor aluno: Marta\n",
      "Média da turma 5.25\n"
     ]
    }
   ],
   "source": [
    "#Lista de Dicionários alunos\n",
    "alunos=[{\n",
    "'nome': 'Maria',\n",
    "'nota': 6 \n",
    "},{\n",
    "'nome': 'João',\n",
    "'nota': 4 \n",
    "},{\n",
    "'nome': 'Marta',\n",
    "'nota': 9 \n",
    "},{\n",
    "'nome': 'José',\n",
    "'nota': 2 \n",
    "}]\n",
    "#Declaração de variáveis\n",
    "soma_notas=0\n",
    "melhor_aluno={}\n",
    "\n",
    "\n",
    "for aluno in alunos:\n",
    "    soma_notas+=aluno['nota']\n",
    "    #verifica se está vazio e adiciona um valor para comparar\n",
    "    if not melhor_aluno:\n",
    "        melhor_aluno=aluno\n",
    "    #compara a nota conforme itera e altera o melhor_aluno\n",
    "    elif aluno['nota']>melhor_aluno['nota']:\n",
    "        melhor_aluno=aluno\n",
    "\n",
    "\n",
    "print('Melhor aluno:', melhor_aluno['nome'])\n",
    "#conta feita dentro do print, dividindo a soma pelo numero de argumentos da lista\n",
    "print ('Média da turma',soma_notas/len (alunos) )\n"
   ]
  },
  {
   "cell_type": "markdown",
   "id": "6d4aa6eb-3acc-4fbf-8dc3-b1de51101eeb",
   "metadata": {},
   "source": [
    "## Atividade 3: Gerar um Tabuleiro de Xadrez\n",
    "\n",
    "1. Crie uma lista vazia chamada tabuleiro.\n",
    "\n",
    "2. Use um laço de repetição for externo para iterar 8 vezes (representando as linhas).\n",
    "\n",
    "3. Dentro dele, crie uma lista vazia chamada linha.\n",
    "\n",
    "4. Use um laço de repetição for interno para iterar 8 vezes (representando as colunas).\n",
    "\n",
    "5. Dentro do loop interno, use um condicional para adicionar uma string que representa a cor da casa ('preto' ou 'branco') à linha, alternando a cor a cada passo.\n",
    "\n",
    "6. Adicione a linha completa ao tabuleiro após o loop interno.\n",
    "\n",
    "7. Imprima o tabuleiro completo."
   ]
  },
  {
   "cell_type": "code",
   "execution_count": null,
   "id": "1bbb6d13-61e1-46d8-b018-b2852b6f2b39",
   "metadata": {},
   "outputs": [
    {
     "name": "stdout",
     "output_type": "stream",
     "text": [
      "['preto', 'branco', 'preto', 'branco', 'preto', 'branco', 'preto', 'branco']\n",
      "['branco', 'preto', 'branco', 'preto', 'branco', 'preto', 'branco', 'preto']\n",
      "['preto', 'branco', 'preto', 'branco', 'preto', 'branco', 'preto', 'branco']\n",
      "['branco', 'preto', 'branco', 'preto', 'branco', 'preto', 'branco', 'preto']\n",
      "['preto', 'branco', 'preto', 'branco', 'preto', 'branco', 'preto', 'branco']\n",
      "['branco', 'preto', 'branco', 'preto', 'branco', 'preto', 'branco', 'preto']\n",
      "['preto', 'branco', 'preto', 'branco', 'preto', 'branco', 'preto', 'branco']\n",
      "['branco', 'preto', 'branco', 'preto', 'branco', 'preto', 'branco', 'preto']\n"
     ]
    }
   ],
   "source": [
    "# Lista vazia do tabuleiro\n",
    "tabuleiro = []\n",
    "\n",
    "# Laço externo: percorre as linhas\n",
    "for i in range(8):\n",
    "    # Lista vazia da linha\n",
    "    linha = []\n",
    "    \n",
    "    # Laço interno: percorre as colunas\n",
    "    for j in range(8):\n",
    "        # Alterar a cor das casas por meio de par ou impar\n",
    "        if (i + j) % 2 == 0:\n",
    "            linha.append(\"preto\")\n",
    "        else:\n",
    "            linha.append(\"branco\")\n",
    "    \n",
    "    # Linha completa ao tabuleiro\n",
    "    tabuleiro.append(linha)\n",
    "\n",
    "# Tabuleiro completo\n",
    "for linha in tabuleiro:\n",
    "    print(linha)\n"
   ]
  },
  {
   "cell_type": "markdown",
   "id": "bbaa181f-1687-404c-bdaa-44ed8fddccf3",
   "metadata": {},
   "source": [
    "## Atividade 4: Análise de Dados de Sensores\n",
    "\n",
    "1. Crie uma lista de dicionários chamada leituras_sensores, onde cada dicionário tem as chaves \"sensor_id\", \"valor\" (numérico) e \"data\" (string). Adicione pelo menos 5 leituras.\n",
    "\n",
    "2. Crie variáveis para a soma dos valores, o maior valor, o menor valor e a contagem de leituras.\n",
    "\n",
    "3. Crie um dicionário vazio chamado alertas para armazenar leituras com valor acima de um limite (por exemplo, 30).\n",
    "\n",
    "4. Use um laço de repetição for para percorrer a lista leituras_sensores.\n",
    "\n",
    "5. Dentro do loop, atualize as variáveis de soma, maior e menor valor.\n",
    "\n",
    "6. Use um condicional (if) para verificar se o valor da leitura é maior que o limite. Se sim, adicione a leitura completa ao dicionário alertas com o sensor_id como chave.\n",
    "\n",
    "7. Após o loop, calcule a média dos valores e imprima um relatório com o valor médio, o maior valor, o menor valor e o dicionário alertas com as leituras que ultrapassaram o limite."
   ]
  },
  {
   "cell_type": "code",
   "execution_count": null,
   "id": "52851988-3032-40eb-8c44-8a8eb2d2bb7e",
   "metadata": {},
   "outputs": [
    {
     "name": "stdout",
     "output_type": "stream",
     "text": [
      "Relatório de Análise de Sensores:\n",
      "Valor médio: 28.6\n",
      "Maior valor: 40\n",
      "Menor valor: 18\n",
      "Alertas (leituras acima do limite):\n",
      "{'S2': {'sensor_id': 'S2', 'valor': 32, 'data': '2025-09-22'}, 'S4': {'sensor_id': 'S4', 'valor': 40, 'data': '2025-09-20'}}\n"
     ]
    }
   ],
   "source": [
    "# lista de dicionários com leituras dos sensores\n",
    "leituras_sensores = [\n",
    "    {\"sensor_id\": \"S1\", \"valor\": 25, \"data\": \"2025-09-23\"},\n",
    "    {\"sensor_id\": \"S2\", \"valor\": 32, \"data\": \"2025-09-22\"},\n",
    "    {\"sensor_id\": \"S3\", \"valor\": 28, \"data\": \"2025-09-21\"},\n",
    "    {\"sensor_id\": \"S4\", \"valor\": 40, \"data\": \"2025-09-20\"},\n",
    "    {\"sensor_id\": \"S5\", \"valor\": 18, \"data\": \"2025-09-19\"},\n",
    "]\n",
    "\n",
    "# variáveis para cálculos\n",
    "soma = 0\n",
    "maior = float(\"-inf\")  # -infinito (garantia que os valores analisados serão maiores)\n",
    "menor = float(\"inf\")   # infinito (garantia que os valores analisados serão menores)\n",
    "contagem = 0\n",
    "\n",
    "# dicionário vazio para armazenar alertas\n",
    "alertas = {}\n",
    "\n",
    "# limite para disparar alerta\n",
    "limite = 30\n",
    "\n",
    "# loop para percorrer as leituras\n",
    "for leitura in leituras_sensores:\n",
    "    valor = leitura[\"valor\"]\n",
    "    soma += valor\n",
    "    contagem += 1\n",
    "\n",
    "    if valor > maior:\n",
    "        maior = valor\n",
    "    if valor < menor:\n",
    "        menor = valor\n",
    "\n",
    "    if valor > limite:\n",
    "        alertas[leitura[\"sensor_id\"]] = leitura\n",
    "\n",
    "# cálculo da média\n",
    "media = soma / contagem\n",
    "\n",
    "# relatório final\n",
    "print(\"Relatório de Análise de Sensores:\")\n",
    "print(f\"Valor médio: {media}\")\n",
    "print(f\"Maior valor: {maior}\")\n",
    "print(f\"Menor valor: {menor}\")\n",
    "print(\"Alertas (leituras acima do limite):\")\n",
    "print(alertas)\n"
   ]
  },
  {
   "cell_type": "markdown",
   "id": "6e53f9c4-3f20-4722-9ec7-62d16c3f5a0a",
   "metadata": {},
   "source": [
    "## Atividade 5: Consolidação e Limpeza de Dados de Múltiplas Fontes\n",
    "\n",
    "1. Crie duas listas de dicionários, sensores_leste e sensores_oeste, cada uma com pelo menos 3 dicionários. Cada dicionário deve ter as chaves \"id\", \"temperatura\" (numérico) e \"umidade\" (numérico). Inclua valores negativos ou nulos para simular dados inválidos.\n",
    "\n",
    "2. Crie uma lista vazia chamada dados_validos.\n",
    "\n",
    "3. Use loops de repetição para percorrer as duas listas de sensores. Dentro dos loops, use condicionais (if) para verificar se os valores de \"temperatura\" e \"umidade\" são positivos.\n",
    "\n",
    "4. Se os dados forem válidos, adicione o dicionário completo à lista dados_validos.\n",
    "\n",
    "5. Após os loops, use um laço for para iterar sobre a lista dados_validos. Calcule e armazene a temperatura média, a umidade média, a temperatura máxima e a umidade máxima.\n",
    "\n",
    "6. Use um dicionário para contar o número de leituras válidas de cada sensor (usando o \"id\" como chave).\n",
    "\n",
    "7. Imprima um relatório final com as médias, os valores máximos e a contagem de leituras por sensor."
   ]
  },
  {
   "cell_type": "code",
   "execution_count": 5,
   "id": "9700132e-8de9-47c4-9f22-c390adb2cf7a",
   "metadata": {},
   "outputs": [
    {
     "name": "stdout",
     "output_type": "stream",
     "text": [
      "Relatório Consolidado de Sensores\n",
      "Temperatura média: 26.666666666666668\n",
      "Umidade média: 56.666666666666664\n",
      "Temperatura máxima: 30\n",
      "Umidade máxima: 65\n",
      "Leituras por sensor: {'L1': 1, 'O1': 1, 'O2': 1}\n"
     ]
    }
   ],
   "source": [
    "# listas com leituras de sensores\n",
    "sensores_leste = [\n",
    "    {\"id\": \"L1\", \"temperatura\": 22, \"umidade\": 55},\n",
    "    {\"id\": \"L2\", \"temperatura\": -5, \"umidade\": 60},   # inválido\n",
    "    {\"id\": \"L3\", \"temperatura\": 25, \"umidade\": 0},    # inválido\n",
    "]\n",
    "\n",
    "sensores_oeste = [\n",
    "    {\"id\": \"O1\", \"temperatura\": 30, \"umidade\": 50},\n",
    "    {\"id\": \"O2\", \"temperatura\": 28, \"umidade\": 65},\n",
    "    {\"id\": \"O3\", \"temperatura\": -2, \"umidade\": 70},   # inválido\n",
    "]\n",
    "\n",
    "# lista para consolidar somente os dados válidos\n",
    "dados_validos = []\n",
    "\n",
    "# verifica leituras do leste\n",
    "for leitura in sensores_leste:\n",
    "    if leitura[\"temperatura\"] > 0 and leitura[\"umidade\"] > 0:\n",
    "        dados_validos.append(leitura)\n",
    "\n",
    "# verifica leituras do oeste\n",
    "for leitura in sensores_oeste:\n",
    "    if leitura[\"temperatura\"] > 0 and leitura[\"umidade\"] > 0:\n",
    "        dados_validos.append(leitura)\n",
    "\n",
    "# inicializa variáveis\n",
    "soma_temp = soma_umid = 0\n",
    "max_temp = float(\"-inf\")\n",
    "max_umid = float(\"-inf\")\n",
    "\n",
    "# dicionário para contar leituras por sensor\n",
    "contagem_sensores = {}\n",
    "\n",
    "# percorre somente os dados válidos\n",
    "for leitura in dados_validos:\n",
    "    t = leitura[\"temperatura\"]\n",
    "    u = leitura[\"umidade\"]\n",
    "    s_id = leitura[\"id\"]\n",
    "\n",
    "    soma_temp += t\n",
    "    soma_umid += u\n",
    "\n",
    "    if t > max_temp:\n",
    "        max_temp = t\n",
    "    if u > max_umid:\n",
    "        max_umid = u\n",
    "\n",
    "    # incrementa contagem por sensor\n",
    "    if s_id in contagem_sensores:\n",
    "        contagem_sensores[s_id] += 1\n",
    "    else:\n",
    "        contagem_sensores[s_id] = 1\n",
    "\n",
    "# calcula médias\n",
    "media_temp = soma_temp / len(dados_validos)\n",
    "media_umid = soma_umid / len(dados_validos)\n",
    "\n",
    "# relatório final\n",
    "print(\"Relatório Consolidado de Sensores\")\n",
    "print(f\"Temperatura média: {media_temp}\")\n",
    "print(f\"Umidade média: {media_umid}\")\n",
    "print(f\"Temperatura máxima: {max_temp}\")\n",
    "print(f\"Umidade máxima: {max_umid}\")\n",
    "print(\"Leituras por sensor:\", contagem_sensores)\n"
   ]
  }
 ],
 "metadata": {
  "kernelspec": {
   "display_name": "Python 3",
   "language": "python",
   "name": "python3"
  },
  "language_info": {
   "codemirror_mode": {
    "name": "ipython",
    "version": 3
   },
   "file_extension": ".py",
   "mimetype": "text/x-python",
   "name": "python",
   "nbconvert_exporter": "python",
   "pygments_lexer": "ipython3",
   "version": "3.12.1"
  }
 },
 "nbformat": 4,
 "nbformat_minor": 5
}
