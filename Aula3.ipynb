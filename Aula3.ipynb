{
  "nbformat": 4,
  "nbformat_minor": 0,
  "metadata": {
    "colab": {
      "provenance": []
    },
    "kernelspec": {
      "name": "python3",
      "display_name": "Python 3"
    },
    "language_info": {
      "name": "python"
    }
  },
  "cells": [
    {
      "cell_type": "markdown",
      "metadata": {
        "id": "cf4b75a4"
      },
      "source": [
        "## Programação Funcional em Python\n",
        "\n",
        "A programação funcional é um paradigma de programação que trata a computação como a avaliação de funções matemáticas e evita estados mutáveis e dados mutáveis. Em Python, embora não seja puramente funcional, é possível escrever código em um estilo funcional, utilizando:\n",
        "\n",
        "*   **Funções Puras:** Funções que sempre retornam o mesmo resultado para os mesmos argumentos e não causam efeitos colaterais (não modificam o estado do programa fora da função).\n",
        "*   **Imutabilidade:** Evitar a modificação de dados após a criação. Em Python, tipos como tuplas e strings são imutáveis. Para listas e dicionários, é comum criar novas estruturas em vez de modificar as existentes.\n",
        "*   **Funções de Ordem Superior:** Funções que podem receber outras funções como argumentos ou retornar funções. Exemplos incluem `map()`, `filter()`, `reduce()` e `lambda` (para criar funções anônimas).\n",
        "*   **Recursão:** Definir funções que chamam a si mesmas para resolver problemas.\n",
        "\n",
        "**Vantagens da Programação Funcional:**\n",
        "\n",
        "*   Código mais fácil de testar e depurar devido à ausência de efeitos colaterais.\n",
        "*   Melhor legibilidade e manutenibilidade.\n",
        "*   Facilita a programação concorrente e paralela."
      ]
    },
    {
      "cell_type": "code",
      "source": [],
      "metadata": {
        "id": "6nsA3naJeMBW"
      },
      "execution_count": null,
      "outputs": []
    },
    {
      "cell_type": "code",
      "metadata": {
        "id": "ffd8423d"
      },
      "source": [
        "def adicionar(x, y):\n",
        "  \"\"\"\n",
        "  Esta é uma função pura.\n",
        "  Ela sempre retornará a soma de x e y, sem efeitos colaterais.\n",
        "  \"\"\"\n",
        "  return x + y\n",
        "\n",
        "# Exemplo de uso:\n",
        "resultado1 = adicionar(2, 3)\n",
        "resultado2 = adicionar(2, 3)\n",
        "\n",
        "print(f\"Resultado 1: {resultado1}\")\n",
        "print(f\"Resultado 2: {resultado2}\")\n",
        "\n",
        "lista_original = [1, 2, 3]\n",
        "\n",
        "def adicionar_a_lista_impura(lista, item):\n",
        "  \"\"\"\n",
        "  Esta não é uma função pura, pois modifica a lista original (efeito colateral).\n",
        "  \"\"\"\n",
        "  lista.append(item)\n",
        "  return lista\n",
        "\n",
        "lista_modificada = adicionar_a_lista_impura(lista_original, 4)\n",
        "\n",
        "print(f\"Lista original após chamada impura: {lista_original}\")\n",
        "print(f\"Lista modificada pela função impura: {lista_modificada}\")\n",
        "\n",
        "def adicionar_a_lista_pura(lista, item):\n",
        "  \"\"\"\n",
        "  Esta é uma função pura.\n",
        "  Ela retorna uma nova lista sem modificar a original.\n",
        "  \"\"\"\n",
        "  return lista + [item]\n",
        "\n",
        "lista_original_pura = [1, 2, 3]\n",
        "nova_lista_pura = adicionar_a_lista_pura(lista_original_pura, 4)\n",
        "\n",
        "print(f\"Lista original após chamada pura: {lista_original_pura}\")\n",
        "print(f\"Nova lista gerada pela função pura: {nova_lista_pura}\")"
      ],
      "execution_count": null,
      "outputs": []
    },
    {
      "cell_type": "markdown",
      "metadata": {
        "id": "96bc0238"
      },
      "source": [
        "### Exemplo de Funções Puras\n",
        "\n",
        "Uma função pura é aquela que atende a dois critérios principais:\n",
        "\n",
        "1.  **Determinística:** Para os mesmos argumentos de entrada, a função sempre produz o mesmo resultado de saída.\n",
        "2.  **Sem Efeitos Colaterais:** A função não modifica nenhum estado fora de seu escopo (não altera variáveis globais, não modifica objetos passados como argumento, não realiza operações de I/O, etc.).\n",
        "\n",
        "No exemplo acima:\n",
        "\n",
        "*   A função `adicionar(x, y)` é pura. Sempre que você a chama com os mesmos números, ela retorna a mesma soma e não altera nada no programa.\n",
        "*   A função `adicionar_a_lista_impura(lista, item)` **não** é pura porque ela modifica a lista original que foi passada como argumento (um efeito colateral).\n",
        "*   A função `adicionar_a_lista_pura(lista, item)` **é** pura porque ela cria e retorna uma **nova** lista com o item adicionado, sem modificar a lista original.\n",
        "\n",
        "Funções puras facilitam o raciocínio sobre o código e o tornam mais previsível."
      ]
    },
    {
      "cell_type": "code",
      "source": [
        "# Exercício 1: Identifique se a função abaixo é pura ou impura e explique por quê.\n",
        "saldo_conta = 100\n",
        "\n",
        "def depositar(valor):\n",
        "  global saldo_conta\n",
        "  saldo_conta += valor\n",
        "  return saldo_conta\n",
        "\n"
      ],
      "metadata": {
        "id": "frjhe5Aheq74"
      },
      "execution_count": null,
      "outputs": []
    },
    {
      "cell_type": "code",
      "source": [
        "# Exercício 2: Identifique se a função abaixo é pura ou impura e explique por quê.\n",
        "def multiplicar(a, b):\n",
        "  return a * b\n",
        "\n"
      ],
      "metadata": {
        "id": "rwb1LdMFfLE_"
      },
      "execution_count": null,
      "outputs": []
    },
    {
      "cell_type": "code",
      "source": [
        "# Exercício 3: Crie uma versão pura da função abaixo.\n",
        "lista_global = [1, 2, 3]\n",
        "\n",
        "def adicionar_item_impuro(item):\n",
        "  lista_global.append(item)\n",
        "  return lista_global\n",
        "\n"
      ],
      "metadata": {
        "id": "UsIRv_s_fNwn"
      },
      "execution_count": null,
      "outputs": []
    },
    {
      "cell_type": "code",
      "source": [
        "# Exercício 4: Crie uma função pura que receba uma lista de números e retorne uma nova lista com cada número dobrado.\n",
        "def dobrar_numeros_pura(lista):\n",
        "  pass # Implemente aqui\n",
        "\n"
      ],
      "metadata": {
        "id": "PMctI-LxfPEt"
      },
      "execution_count": null,
      "outputs": []
    },
    {
      "cell_type": "markdown",
      "metadata": {
        "id": "75217802"
      },
      "source": [
        "### `map()` em Python\n",
        "\n",
        "A função `map()` aplica uma função a todos os itens de um iterável (como uma lista, tupla, etc.) e retorna um iterador com os resultados. É uma forma concisa de aplicar a mesma operação a cada elemento de uma sequência sem usar um loop explícito.\n",
        "\n",
        "**Sintaxe:** `map(funcao, iteravel)`\n",
        "\n",
        "*   `funcao`: A função a ser aplicada a cada item do `iteravel`.\n",
        "*   `iteravel`: O iterável cujos elementos serão passados como argumentos para a `funcao`."
      ]
    },
    {
      "cell_type": "code",
      "metadata": {
        "id": "be3c1443"
      },
      "source": [
        "# Exemplo de uso de map()\n",
        "\n",
        "# Função para dobrar um número\n",
        "def dobrar(x):\n",
        "  return x * 2\n",
        "\n",
        "numeros = [1, 2, 3, 4, 5]\n",
        "\n",
        "# Usando map para dobrar cada número na lista\n",
        "numeros_dobrados = list(map(dobrar, numeros))\n",
        "\n",
        "print(f\"Números originais: {numeros}\")\n",
        "print(f\"Números dobrados (usando map): {numeros_dobrados}\")"
      ],
      "execution_count": null,
      "outputs": []
    },
    {
      "cell_type": "code",
      "source": [
        "# Exercício 1: Use map() e uma função definida para converter uma lista de strings em números inteiros.\n",
        "strings = [\"1\", \"2\", \"3\", \"4\", \"5\"]\n",
        "# Implemente aqui"
      ],
      "metadata": {
        "id": "7LMxBejzhUaK"
      },
      "execution_count": null,
      "outputs": []
    },
    {
      "cell_type": "code",
      "source": [
        "# Exercício 2: Use map() e uma função definida para calcular o quadrado de cada número em uma lista.\n",
        "numeros = [1, 2, 3, 4, 5]\n",
        "# Implemente aqui\n",
        "\n"
      ],
      "metadata": {
        "id": "62PaxB1thf2P"
      },
      "execution_count": null,
      "outputs": []
    },
    {
      "cell_type": "code",
      "source": [
        "# Exercício 3: Use map() e uma função definida para adicionar o sufixo \"_modificado\" a cada string em uma lista.\n",
        "palavras = [\"casa\", \"carro\", \"cachorro\"]\n",
        "# Implemente aqui\n",
        "\n"
      ],
      "metadata": {
        "id": "u9EQJzT-hh_t"
      },
      "execution_count": null,
      "outputs": []
    },
    {
      "cell_type": "code",
      "source": [
        "# Exercício 4: Use map() e uma função definida para verificar se cada número em uma lista é positivo (retornar True ou False).\n",
        "valores = [-1, 0, 5, -10, 100]\n",
        "# Implemente aqui"
      ],
      "metadata": {
        "id": "AJ6Ze1rghjld"
      },
      "execution_count": null,
      "outputs": []
    },
    {
      "cell_type": "markdown",
      "metadata": {
        "id": "8cdb7ffd"
      },
      "source": [
        "### `filter()` em Python\n",
        "\n",
        "A função `filter()` constrói um iterador a partir dos elementos de um iterável para os quais uma função retorna verdadeiro. É usada para selecionar elementos de um iterável com base em uma condição.\n",
        "\n",
        "**Sintaxe:** `filter(funcao, iteravel)`\n",
        "\n",
        "*   `funcao`: A função que retorna `True` ou `False` para cada elemento do `iteravel`.\n",
        "*   `iteravel`: O iterável a ser filtrado."
      ]
    },
    {
      "cell_type": "code",
      "metadata": {
        "id": "1018e880"
      },
      "source": [
        "# Exemplo de uso de filter()\n",
        "\n",
        "# Função para verificar se um número é par\n",
        "def é_par(x):\n",
        "  return x % 2 == 0\n",
        "\n",
        "numeros = [1, 2, 3, 4, 5, 6, 7, 8, 9, 10]\n",
        "\n",
        "# Usando filter para obter apenas os números pares\n",
        "numeros_pares = list(filter(é_par, numeros))\n",
        "\n",
        "print(f\"Números originais: {numeros}\")\n",
        "print(f\"Números pares (usando filter): {numeros_pares}\")"
      ],
      "execution_count": null,
      "outputs": []
    },
    {
      "cell_type": "code",
      "source": [
        "# Exercício 1: Use filter() e uma função definida para obter apenas as strings que começam com a letra 'c' de uma lista.\n",
        "palavras = [\"casa\", \"carro\", \"abacaxi\", \"cachorro\", \"elefante\"]\n",
        "# Implemente aqui"
      ],
      "metadata": {
        "id": "JqA87QtIhp5M"
      },
      "execution_count": null,
      "outputs": []
    },
    {
      "cell_type": "code",
      "source": [
        "# Exercício 2: Use filter() e uma função definida para obter apenas os números maiores que 10 de uma lista.\n",
        "numeros = [5, 12, 8, 25, 3, 15]\n",
        "# Implemente aqui"
      ],
      "metadata": {
        "id": "94Vrro5gh0gj"
      },
      "execution_count": null,
      "outputs": []
    },
    {
      "cell_type": "code",
      "source": [
        "# Exercício 3: Use filter() e uma função definida para obter apenas os elementos de uma lista que são do tipo string.\n",
        "elementos = [1, \"hello\", True, 3.14, \"world\", False]\n",
        "# Implemente aqui"
      ],
      "metadata": {
        "id": "rVOWXKL4h2EI"
      },
      "execution_count": null,
      "outputs": []
    },
    {
      "cell_type": "code",
      "source": [
        "# Exercício 4: Use filter() e uma função definida para obter apenas as palavras de uma lista que têm mais de 5 caracteres.\n",
        "lista_palavras = [\"python\", \"java\", \"c++\", \"javascript\", \"ruby\"]\n",
        "# Implemente aqui"
      ],
      "metadata": {
        "id": "nSSdGFcSh3dd"
      },
      "execution_count": null,
      "outputs": []
    },
    {
      "cell_type": "markdown",
      "metadata": {
        "id": "7e065b68"
      },
      "source": [
        "### `reduce()` em Python\n",
        "\n",
        "A função `reduce()` aplica uma função a um iterável de forma cumulativa, da esquerda para a direita, para reduzir o iterável a um único valor. Em Python 3, `reduce()` está no módulo `functools`.\n",
        "\n",
        "**Sintaxe:** `reduce(funcao, iteravel[, inicializador])`\n",
        "\n",
        "*   `funcao`: A função que recebe dois argumentos e retorna um único valor.\n",
        "*   `iteravel`: O iterável a ser reduzido.\n",
        "*   `inicializador` (opcional): Um valor inicial para a redução. Se não for fornecido, o primeiro item do iterável é usado como inicializador."
      ]
    },
    {
      "cell_type": "code",
      "metadata": {
        "id": "5535021c"
      },
      "source": [
        "# Exemplo de uso de reduce()\n",
        "from functools import reduce\n",
        "\n",
        "# Função para somar dois números\n",
        "def somar(x, y):\n",
        "  return x + y\n",
        "\n",
        "numeros = [1, 2, 3, 4, 5]\n",
        "\n",
        "# Usando reduce para somar todos os números na lista\n",
        "soma_total = reduce(somar, numeros)\n",
        "\n",
        "print(f\"Números originais: {numeros}\")\n",
        "print(f\"Soma total (usando reduce): {soma_total}\")\n",
        "\n",
        "# Exemplo com lambda para multiplicar\n",
        "produto_total = reduce(lambda x, y: x * y, numeros)\n",
        "print(f\"Produto total (usando reduce e lambda): {produto_total}\")\n",
        "\n",
        "# Exemplo com inicializador\n",
        "soma_com_inicializador = reduce(somar, numeros, 10)\n",
        "print(f\"Soma total com inicializador 10: {soma_com_inicializador}\")"
      ],
      "execution_count": null,
      "outputs": []
    },
    {
      "cell_type": "code",
      "source": [
        "from functools import reduce\n",
        "\n",
        "# Exercício 1: Use reduce() e uma função definida para encontrar o maior número em uma lista.\n",
        "numeros = [10, 5, 20, 8, 15]\n",
        "# Implemente aqui"
      ],
      "metadata": {
        "id": "TAwCyI3OiIdR"
      },
      "execution_count": null,
      "outputs": []
    },
    {
      "cell_type": "code",
      "source": [
        "# Exercício 2: Use reduce() e uma função definida para concatenar todas as strings em uma lista.\n",
        "palavras = [\"programação\", \" \", \"funcional\", \" \", \"em\", \" \", \"python\"]\n",
        "# Implemente aqui"
      ],
      "metadata": {
        "id": "T7NUAx5jiSwl"
      },
      "execution_count": null,
      "outputs": []
    },
    {
      "cell_type": "code",
      "source": [
        "# Exercício 3: Use reduce() e uma função definida para calcular o fatorial de um número.\n",
        "# Dica: Comece com um inicializador de 1.\n",
        "numero_fatorial = 5\n",
        "# Implemente aqui"
      ],
      "metadata": {
        "id": "Bsw_WJrNiUsH"
      },
      "execution_count": null,
      "outputs": []
    },
    {
      "cell_type": "code",
      "source": [
        "# Exercício 4: Use reduce() e uma função definida para contar a ocorrência de um caractere específico em uma string.\n",
        "string_para_contar = \"programacao funcional\"\n",
        "caractere_alvo = \"a\"\n",
        "# Implemente aqui"
      ],
      "metadata": {
        "id": "6_E6aj5_iW6I"
      },
      "execution_count": null,
      "outputs": []
    },
    {
      "cell_type": "markdown",
      "metadata": {
        "id": "13067f94"
      },
      "source": [
        "### Funções Anônimas (`lambda`) em Python\n",
        "\n",
        "Funções anônimas, ou funções `lambda`, são pequenas funções sem nome definidas usando a palavra-chave `lambda`. Elas são úteis para criar funções simples que serão usadas apenas uma vez ou em um contexto específico, como com `map()`, `filter()` ou `reduce()`.\n",
        "\n",
        "**Sintaxe:** `lambda argumentos: expressao`\n",
        "\n",
        "*   `argumentos`: Os argumentos que a função lambda recebe (pode ser nenhum ou vários).\n",
        "*   `expressao`: A expressão que define o que a função lambda retorna. O resultado da expressão é retornado implicitamente."
      ]
    },
    {
      "cell_type": "code",
      "metadata": {
        "id": "d082d1e2"
      },
      "source": [
        "# Exemplo de uso de lambda\n",
        "\n",
        "# Função lambda para somar dois números\n",
        "somar_lambda = lambda x, y: x + y\n",
        "print(f\"Usando lambda para somar 5 e 3: {somar_lambda(5, 3)}\")\n",
        "\n",
        "# Função lambda para verificar se um número é ímpar\n",
        "é_impar_lambda = lambda x: x % 2 != 0\n",
        "print(f\"Usando lambda para verificar se 7 é ímpar: {é_impar_lambda(7)}\")\n",
        "print(f\"Usando lambda para verificar se 8 é ímpar: {é_impar_lambda(8)}\")\n",
        "\n",
        "# Uso de lambda com sorted() para ordenar uma lista de tuplas pelo segundo elemento\n",
        "pares = [(1, 'banana'), (3, 'maçã'), (2, 'laranja')]\n",
        "pares_ordenados = sorted(pares, key=lambda item: item[1])\n",
        "print(f\"Pares ordenados pelo segundo elemento (usando lambda com sorted): {pares_ordenados}\")"
      ],
      "execution_count": null,
      "outputs": []
    },
    {
      "cell_type": "code",
      "source": [
        "from functools import reduce\n",
        "\n",
        "# Exercício 1: Use lambda para criar uma função que eleva um número ao quadrado.\n",
        "# Implemente aqui"
      ],
      "metadata": {
        "id": "7hpsXCy0if-8"
      },
      "execution_count": null,
      "outputs": []
    },
    {
      "cell_type": "code",
      "source": [
        "# Exercício 2: Use lambda para criar uma função que verifica se uma string contém a letra 'e'.\n",
        "# Implemente aqui"
      ],
      "metadata": {
        "id": "7hR5OScciynR"
      },
      "execution_count": null,
      "outputs": []
    },
    {
      "cell_type": "code",
      "source": [
        "# Exercício 3: Use lambda para criar uma função que concatena duas strings com um espaço no meio.\n",
        "# Implemente aqui\n",
        "\n",
        "# Exercício 4: Use lambda para criar uma função que retorna o último elemento de uma lista.\n",
        "# Implemente aqui\n",
        "\n"
      ],
      "metadata": {
        "id": "vkFQ3vQxi02E"
      },
      "execution_count": null,
      "outputs": []
    },
    {
      "cell_type": "code",
      "source": [
        "# Exercício 5: Use lambda com map() para converter uma lista de números em seus valores absolutos.\n",
        "numeros = [-1, -2, 3, -4, 5]\n",
        "# Implemente aqui\n",
        "\n"
      ],
      "metadata": {
        "id": "l0nakCXti2TB"
      },
      "execution_count": null,
      "outputs": []
    },
    {
      "cell_type": "code",
      "source": [
        "# Exercício 6: Use lambda com filter() para obter apenas as palavras de uma lista que começam com vogal.\n",
        "palavras = [\"apple\", \"banana\", \"orange\", \"grape\", \"kiwi\"]\n",
        "# Implemente aqui\n",
        "\n"
      ],
      "metadata": {
        "id": "UcyzqtIJi4CK"
      },
      "execution_count": null,
      "outputs": []
    },
    {
      "cell_type": "code",
      "source": [
        "# Exercício 7: Use lambda com reduce() para encontrar o produto de todos os números em uma lista.\n",
        "numeros = [1, 2, 3, 4, 5]\n",
        "# Implemente aqui\n",
        "\n"
      ],
      "metadata": {
        "id": "R2lP131Gi5Q7"
      },
      "execution_count": null,
      "outputs": []
    },
    {
      "cell_type": "code",
      "source": [
        "# Exercício 8: Use lambda com sorted() para ordenar uma lista de dicionários pelo valor da chave 'idade'.\n",
        "pessoas = [{\"nome\": \"João\", \"idade\": 30}, {\"nome\": \"Maria\", \"idade\": 25}, {\"nome\": \"Pedro\", \"idade\": 35}]\n",
        "# Implemente aqui\n",
        "\n"
      ],
      "metadata": {
        "id": "ncfx_Dd2i6jF"
      },
      "execution_count": null,
      "outputs": []
    },
    {
      "cell_type": "code",
      "source": [
        "# Exercício 9: Use lambda para criar uma função que retorna True se um número for divisível por 3 e 5, e False caso contrário.\n",
        "# Implemente aqui\n",
        "\n"
      ],
      "metadata": {
        "id": "Z5wP69Ndi7xA"
      },
      "execution_count": null,
      "outputs": []
    },
    {
      "cell_type": "code",
      "source": [
        "# Exercício 10: Use lambda para criar uma função que extrai o nome de usuário de um email (tudo antes do '@').\n",
        "# Implemente aqui"
      ],
      "metadata": {
        "id": "eb6kb22Ai9AE"
      },
      "execution_count": null,
      "outputs": []
    },
    {
      "cell_type": "markdown",
      "metadata": {
        "id": "2612e6c2"
      },
      "source": [
        "### Orientação a Objetos em Python\n",
        "\n",
        "A Orientação a Objetos (OO) é um paradigma de programação que se baseia no conceito de \"objetos\", que podem conter dados (na forma de campos ou atributos) e código (na forma de procedimentos ou métodos). Em Python, tudo é um objeto, o que facilita a aplicação dos princípios de OO.\n",
        "\n",
        "**Principais Conceitos da OO em Python:**\n",
        "\n",
        "*   **Classes:** São \"moldes\" ou \"plantas\" para criar objetos. Elas definem os atributos (características) e métodos (comportamentos) que os objetos dessa classe terão.\n",
        "*   **Objetos (Instâncias):** São as realizações concretas de uma classe. Cada objeto possui seus próprios valores para os atributos definidos na classe.\n",
        "*   **Atributos:** São as variáveis associadas a uma classe ou objeto, que armazenam dados.\n",
        "*   **Métodos:** São as funções definidas dentro de uma classe que operam sobre os atributos do objeto. O primeiro parâmetro de um método de instância é convencionalmente chamado de `self`, que se refere à própria instância do objeto.\n",
        "*   **Encapsulamento:** Oculta os detalhes internos de um objeto e expõe apenas o que é necessário através de uma interface bem definida (métodos). Em Python, o encapsulamento é mais por convenção do que por imposição rígida.\n",
        "*   **Herança:** Permite que uma nova classe (classe filha ou subclasse) herde atributos e métodos de uma classe existente (classe pai ou superclasse). Isso promove a reutilização de código e estabelece relações de \"é um tipo de\".\n",
        "*   **Polimorfismo:** Significa \"muitas formas\". Em OO, refere-se à capacidade de objetos de diferentes classes responderem ao mesmo método de maneiras diferentes. Em Python, o polimorfismo é frequentemente alcançado através de \"duck typing\" (se parece com um pato e grasna como um pato, então é um pato).\n",
        "\n",
        "A OO ajuda a organizar o código de forma modular e reutilizável, tornando programas complexos mais fáceis de entender e manter."
      ]
    },
    {
      "cell_type": "markdown",
      "metadata": {
        "id": "58597930"
      },
      "source": [
        "### Classes em Python\n",
        "\n",
        "Classes são os blocos de construção fundamentais da Orientação a Objetos em Python. Elas servem como \"plantas\" ou \"modelos\" para criar objetos (instâncias) que compartilham características (atributos) e comportamentos (métodos) comuns.\n",
        "\n",
        "**Definindo uma Classe:**\n",
        "\n",
        "Uma classe é definida usando a palavra-chave `class`, seguida pelo nome da classe e dois pontos."
      ]
    },
    {
      "cell_type": "code",
      "metadata": {
        "id": "5fdb957d"
      },
      "source": [
        "class MinhaClasse:\n",
        "  def __init__(self, atributo1, atributo2):\n",
        "    self.atributo1 = atributo1 # Atributo de instância\n",
        "    self.atributo2 = atributo2 # Atributo de instância\n",
        "\n",
        "  def meu_metodo(self):\n",
        "    # Este é um método de instância\n",
        "    print(f\"Valor do atributo 1: {self.atributo1}\")\n",
        "\n",
        "# Atributo de classe\n",
        "MinhaClasse.atributo_classe = \"Este é um atributo de classe\""
      ],
      "execution_count": null,
      "outputs": []
    },
    {
      "cell_type": "code",
      "metadata": {
        "id": "ac79aafa"
      },
      "source": [
        "# Criando uma instância da classe\n",
        "meu_objeto = MinhaClasse(\"valor A\", \"valor B\")"
      ],
      "execution_count": null,
      "outputs": []
    },
    {
      "cell_type": "code",
      "metadata": {
        "id": "95a29867"
      },
      "source": [
        "# Acessando um atributo de instância\n",
        "print(meu_objeto.atributo1)\n",
        "\n",
        "# Acessando um atributo de classe\n",
        "print(MinhaClasse.atributo_classe)\n",
        "print(meu_objeto.atributo_classe) # Também pode ser acessado pela instância\n",
        "\n",
        "# Chamando um método\n",
        "meu_objeto.meu_metodo()"
      ],
      "execution_count": null,
      "outputs": []
    },
    {
      "cell_type": "code",
      "metadata": {
        "id": "8df0a943"
      },
      "source": [
        "# Exemplo prático de Classe, Atributos e Métodos\n",
        "\n",
        "class Carro:\n",
        "  # Atributo de classe\n",
        "  tipo_veiculo = \"automóvel\"\n",
        "\n",
        "  def __init__(self, marca, modelo, ano):\n",
        "    # Atributos de instância\n",
        "    self.marca = marca\n",
        "    self.modelo = modelo\n",
        "    self.ano = ano\n",
        "    self.ligado = False # Atributo de estado inicial\n",
        "\n",
        "  # Método de instância\n",
        "  def ligar(self):\n",
        "    if not self.ligado:\n",
        "      print(f\"O {self.marca} {self.modelo} ({self.ano}) está ligando...\")\n",
        "      self.ligado = True\n",
        "    else:\n",
        "      print(f\"O {self.marca} {self.modelo} já está ligado.\")\n",
        "\n",
        "  # Método de instância\n",
        "  def desligar(self):\n",
        "    if self.ligado:\n",
        "      print(f\"O {self.marca} {self.modelo} ({self.ano}) está desligando...\")\n",
        "      self.ligado = False\n",
        "    else:\n",
        "      print(f\"O {self.marca} {self.modelo} já está desligado.\")\n",
        "\n",
        "  # Método de instância para exibir informações\n",
        "  def exibir_informacoes(self):\n",
        "    print(f\"Marca: {self.marca}\")\n",
        "    print(f\"Modelo: {self.modelo}\")\n",
        "    print(f\"Ano: {self.ano}\")\n",
        "    print(f\"Status: {'Ligado' if self.ligado else 'Desligado'}\")\n",
        "    print(f\"Tipo de veículo: {self.tipo_veiculo}\") # Acessando atributo de classe\n",
        "\n",
        "# Criando instâncias da classe Carro\n",
        "meu_carro = Carro(\"Toyota\", \"Corolla\", 2022)\n",
        "outro_carro = Carro(\"Honda\", \"Civic\", 2023)\n",
        "\n",
        "# Acessando atributos e chamando métodos\n",
        "meu_carro.exibir_informacoes()\n",
        "meu_carro.ligar()\n",
        "meu_carro.exibir_informacoes()\n",
        "meu_carro.ligar() # Tentando ligar novamente\n",
        "\n",
        "print(\"-\" * 20)\n",
        "\n",
        "outro_carro.exibir_informacoes()\n",
        "outro_carro.desligar() # Tentando desligar quando já está desligado\n",
        "outro_carro.ligar()\n",
        "outro_carro.exibir_informacoes()\n",
        "\n",
        "# Acessando atributo de classe diretamente pela classe\n",
        "print(f\"\\nAtributo de classe direto: {Carro.tipo_veiculo}\")"
      ],
      "execution_count": null,
      "outputs": []
    },
    {
      "cell_type": "code",
      "source": [
        "# Exercício 1: Crie uma classe chamada 'Pessoa' com atributos 'nome' e 'idade'.\n",
        "# Adicione um método chamado 'apresentar' que imprime uma mensagem como \"Olá, meu nome é [nome] e tenho [idade] anos.\"\n",
        "# Crie uma instância da classe Pessoa e chame o método apresentar.\n",
        "class Pessoa:\n",
        "  pass # Implemente aqui\n"
      ],
      "metadata": {
        "id": "XOL3TpYYkiDa"
      },
      "execution_count": null,
      "outputs": []
    },
    {
      "cell_type": "code",
      "source": [
        "# Exercício 2: Modifique a classe 'Pessoa' do exercício anterior para incluir um atributo de classe chamado 'especie' com o valor \"Homo sapiens\".\n",
        "# Adicione um método de classe que imprima a espécie.\n",
        "# Crie uma nova instância e acesse o atributo de classe e chame o método de classe.\n"
      ],
      "metadata": {
        "id": "QY-VP1EmkqbD"
      },
      "execution_count": null,
      "outputs": []
    },
    {
      "cell_type": "markdown",
      "metadata": {
        "id": "bcca5f0a"
      },
      "source": [
        "### Encapsulamento em Python\n",
        "\n",
        "Encapsulamento é um princípio da Orientação a Objetos que se refere ao agrupamento de dados (atributos) e dos métodos que operam sobre esses dados em uma única unidade (a classe). Ele também envolve a ocultação dos detalhes internos de um objeto, expondo apenas uma interface controlada para interagir com ele.\n",
        "\n",
        "Em Python, o encapsulamento é mais uma convenção do que uma imposição estrita. Não existem modificadores de acesso `public`, `private` ou `protected` como em algumas outras linguagens. No entanto, convenções e o uso de prefixos em nomes de atributos podem indicar o nível de acesso desejado.\n",
        "\n",
        "*   **Convenção (Atributos Públicos):** Atributos sem prefixo são considerados públicos por convenção. Eles podem ser acessados e modificados diretamente de fora da classe.\n",
        "*   **Convenção (Atributos Protegidos):** Atributos precedidos por um único underline (`_`) são considerados protegidos por convenção. Isso sugere que eles não devem ser acessados diretamente de fora da classe, mas ainda é possível fazê-lo. São mais usados para indicar que são detalhes de implementação interna ou para uso em subclasses.\n",
        "*   **\"Name Mangling\" (Atributos \"Privados\"):** Atributos precedidos por dois underscores (`__`) (mas não seguidos por dois underscores) têm seus nomes \"embaralhados\" pelo interpretador Python (name mangling). Isso torna o acesso direto de fora da classe mais difícil, mas não impossível. É uma forma mais forte de indicar que um atributo é privado e destinado a ser acessado apenas pelos métodos da própria classe.\n",
        "\n",
        "O encapsulamento ajuda a proteger os dados de um objeto contra acesso ou modificação não intencional e torna o código mais fácil de manter, pois as mudanças internas em uma classe não afetam o código externo que a utiliza, desde que a interface pública seja mantida."
      ]
    },
    {
      "cell_type": "code",
      "metadata": {
        "id": "c4adfc4c"
      },
      "source": [
        "class ContaBancaria:\n",
        "  def __init__(self, saldo_inicial):\n",
        "    # Atributo \"privado\" usando name mangling\n",
        "    self.__saldo = saldo_inicial\n",
        "\n",
        "  # Método público para depositar\n",
        "  def depositar(self, valor):\n",
        "    if valor > 0:\n",
        "      self.__saldo += valor\n",
        "      print(f\"Depósito de {valor} realizado com sucesso.\")\n",
        "    else:\n",
        "      print(\"Valor de depósito inválido.\")\n",
        "\n",
        "  # Método público para sacar\n",
        "  def sacar(self, valor):\n",
        "    if valor > 0 and valor <= self.__saldo:\n",
        "      self.__saldo -= valor\n",
        "      print(f\"Saque de {valor} realizado com sucesso.\")\n",
        "      return True\n",
        "    else:\n",
        "      print(\"Saldo insuficiente ou valor de saque inválido.\")\n",
        "      return False\n",
        "\n",
        "  # Método público (getter) para obter o saldo\n",
        "  def get_saldo(self):\n",
        "    return self.__saldo\n",
        "\n",
        "# Criando uma instância\n",
        "minha_conta = ContaBancaria(1000)\n",
        "\n",
        "# Acessando saldo diretamente (não recomendado, mas possível via name mangling)\n",
        "# print(minha_conta.__saldo) # Isso causaria um AttributeError\n",
        "print(minha_conta._ContaBancaria__saldo) # Acesso via name mangling (evitar!)\n",
        "\n",
        "# Usando os métodos públicos\n",
        "minha_conta.depositar(500)\n",
        "minha_conta.sacar(200)\n",
        "\n",
        "# Obtendo o saldo usando o getter\n",
        "print(f\"Saldo atual: {minha_conta.get_saldo()}\")\n",
        "\n",
        "minha_conta.sacar(2000) # Tentando sacar mais do que o saldo"
      ],
      "execution_count": null,
      "outputs": []
    },
    {
      "cell_type": "code",
      "source": [
        "# Exercício 1: Crie uma classe 'Produto' com atributos \"privados\" __nome e __preco.\n",
        "# Implemente métodos públicos (getters) para acessar esses atributos e um método público (setter) para modificar o preço, garantindo que o novo preço seja positivo.\n",
        "class Produto:\n",
        "  pass # Implemente aqui\n"
      ],
      "metadata": {
        "id": "VQVY7iAUlcrG"
      },
      "execution_count": null,
      "outputs": []
    },
    {
      "cell_type": "code",
      "source": [
        "# Exercício 2: Crie uma classe 'Funcionario' com atributo \"privado\" __salario.\n",
        "# Implemente um método público 'aumentar_salario' que receba um percentual e aumente o salário, e um método público 'get_salario' para retornar o salário atual.\n",
        "class Funcionario:\n",
        "  pass # Implemente aqui\n"
      ],
      "metadata": {
        "id": "mYMlKb9olpgB"
      },
      "execution_count": null,
      "outputs": []
    },
    {
      "cell_type": "markdown",
      "metadata": {
        "id": "fad46534"
      },
      "source": [
        "### Herança em Python\n",
        "\n",
        "Herança é um mecanismo da Orientação a Objetos que permite criar uma nova classe (classe filha ou subclasse) baseada em uma classe existente (classe pai ou superclasse). A classe filha herda os atributos e métodos da classe pai, podendo também adicionar novos atributos e métodos ou sobrescrever (modificar) os herdados.\n",
        "\n",
        "Isso promove a reutilização de código e estabelece uma relação \"é um tipo de\" entre as classes (por exemplo, um Cachorro *é um tipo de* Animal).\n",
        "\n",
        "**Sintaxe:**"
      ]
    },
    {
      "cell_type": "code",
      "metadata": {
        "id": "762d5e7d"
      },
      "source": [
        "class Animal:\n",
        "  def __init__(self, nome):\n",
        "    self.nome = nome\n",
        "\n",
        "  def emitir_som(self):\n",
        "    print(\"Algum som...\")\n",
        "\n",
        "  def se_apresentar(self):\n",
        "    print(f\"Olá, eu sou um {self.__class__.__name__} chamado {self.nome}.\")\n",
        "\n",
        "class Cachorro(Animal):\n",
        "  def __init__(self, nome, raça):\n",
        "    super().__init__(nome) # Chama o __init__ da classe pai\n",
        "    self.raça = raça\n",
        "\n",
        "  # Sobrescrevendo o método emitir_som\n",
        "  def emitir_som(self):\n",
        "    print(\"Au Au!\")\n",
        "\n",
        "  # Adicionando um novo método\n",
        "  def buscar_bolinha(self):\n",
        "    print(f\"{self.nome} está buscando a bolinha!\")\n",
        "\n",
        "class Gato(Animal):\n",
        "  def __init__(self, nome, cor_pelo):\n",
        "    super().__init__(nome)\n",
        "    self.cor_pelo = cor_pelo\n",
        "\n",
        "  # Sobrescrevendo o método emitir_som\n",
        "  def emitir_som(self):\n",
        "    print(\"Miau!\")\n",
        "\n",
        "# Criando instâncias\n",
        "animal_generico = Animal(\"Bicho\")\n",
        "cachorro = Cachorro(\"Rex\", \"Pastor Alemão\")\n",
        "gato = Gato(\"Miau\", \"Preto\")\n",
        "\n",
        "# Usando métodos\n",
        "animal_generico.se_apresentar()\n",
        "animal_generico.emitir_som()\n",
        "\n",
        "print(\"-\" * 20)\n",
        "\n",
        "cachorro.se_apresentar()\n",
        "cachorro.emitir_som()\n",
        "cachorro.buscar_bolinha()\n",
        "# print(cachorro.raça) # Acessando atributo próprio\n",
        "\n",
        "print(\"-\" * 20)\n",
        "\n",
        "gato.se_apresentar()\n",
        "gato.emitir_som()\n",
        "# print(gato.cor_pelo) # Acessando atributo próprio"
      ],
      "execution_count": null,
      "outputs": []
    },
    {
      "cell_type": "code",
      "source": [
        "# Exercício 1: Crie uma classe base 'Veiculo' com atributos 'marca' e 'modelo' e um método 'acelerar'.\n",
        "# Crie uma classe filha 'Carro' que herda de 'Veiculo' e adicione um método 'ligar_radio'.\n",
        "# Crie uma instância de Carro e use métodos de ambas as classes.\n"
      ],
      "metadata": {
        "id": "Nz95fVsjl4i8"
      },
      "execution_count": null,
      "outputs": []
    },
    {
      "cell_type": "code",
      "source": [
        "# Exercício 2: Crie uma classe base 'FormaGeometrica' com um método 'calcular_area'.\n",
        "# Crie classes filhas 'Circulo' e 'Quadrado' que herdam de 'FormaGeometrica'.\n",
        "# Sobrescreva o método 'calcular_area' em cada classe filha para calcular a área da forma correspondente."
      ],
      "metadata": {
        "id": "_9CpVEHLmBVO"
      },
      "execution_count": null,
      "outputs": []
    },
    {
      "cell_type": "markdown",
      "metadata": {
        "id": "28199103"
      },
      "source": [
        "### Polimorfismo em Python\n",
        "\n",
        "Polimorfismo significa \"muitas formas\". Em Orientação a Objetos, ele se refere à capacidade de objetos de diferentes classes responderem ao mesmo método de maneiras diferentes. Isso permite escrever código mais flexível e genérico, pois você pode trabalhar com objetos de diferentes tipos de forma unificada.\n",
        "\n",
        "Em Python, o polimorfismo é naturalmente suportado através do \"duck typing\". Se um objeto \"anda como um pato e grasna como um pato\", Python o trata como se fosse um pato, independentemente de sua classe explícita. Isso significa que, se diferentes objetos tiverem métodos com o mesmo nome, você pode chamar esse método sem se preocupar com o tipo específico do objeto, desde que o método exista.\n",
        "\n",
        "Um exemplo comum de polimorfismo é o uso de um loop para iterar sobre uma lista de objetos de diferentes classes e chamar um método comum a todos eles."
      ]
    },
    {
      "cell_type": "code",
      "metadata": {
        "id": "6f7b7077"
      },
      "source": [
        "class Cachorro:\n",
        "  def emitir_som(self):\n",
        "    print(\"Au Au!\")\n",
        "\n",
        "class Gato:\n",
        "  def emitir_som(self):\n",
        "    print(\"Miau!\")\n",
        "\n",
        "class Pato:\n",
        "  def emitir_som(self):\n",
        "    print(\"Quack!\")\n",
        "\n",
        "# Lista de objetos de diferentes classes\n",
        "animais = [Cachorro(), Gato(), Pato()]\n",
        "\n",
        "# Iterando sobre a lista e chamando o método emitir_som() em cada objeto\n",
        "for animal in animais:\n",
        "  animal.emitir_som()\n",
        "\n",
        "# Outro exemplo: Funções que podem trabalhar com diferentes tipos\n",
        "def descrever_animal(animal):\n",
        "  animal.emitir_som() # A função não precisa saber o tipo exato do animal\n",
        "\n",
        "descrever_animal(Cachorro())\n",
        "descrever_animal(Gato())"
      ],
      "execution_count": null,
      "outputs": []
    },
    {
      "cell_type": "code",
      "source": [
        "# Exercício 1: Crie uma classe base 'Forma' com um método 'desenhar'.\n",
        "# Crie classes filhas 'Circulo' e 'Quadrado' que herdam de 'Forma'.\n",
        "# Sobrescreva o método 'desenhar' em cada classe filha para imprimir uma mensagem indicando que está desenhando um círculo ou um quadrado.\n",
        "# Crie uma lista com instâncias de Circulo e Quadrado e itere sobre ela chamando o método 'desenhar'."
      ],
      "metadata": {
        "id": "vZ79JFf3wv1B"
      },
      "execution_count": null,
      "outputs": []
    },
    {
      "cell_type": "code",
      "source": [
        "# Exercício 2: Crie uma classe base 'Pagamento' com um método 'processar_pagamento'.\n",
        "# Crie classes filhas 'CartaoCredito', 'PayPal' e 'TransferenciaBancaria' que herdam de 'Pagamento'.\n",
        "# Sobrescreva o método 'processar_pagamento' em cada classe filha para imprimir uma mensagem específica para cada método de pagamento.\n",
        "# Crie uma lista de diferentes tipos de pagamento e processe cada um em um loop."
      ],
      "metadata": {
        "id": "XlmyGZptxBmM"
      },
      "execution_count": null,
      "outputs": []
    },
    {
      "cell_type": "markdown",
      "metadata": {
        "id": "4eef0cff"
      },
      "source": [
        "### Módulos em Python\n",
        "\n",
        "Módulos em Python são arquivos que contêm definições e declarações em Python. Eles permitem organizar o código em unidades lógicas e reutilizáveis. Usar módulos torna o código mais organizado, legível e fácil de manter.\n",
        "\n",
        "**O que um módulo pode conter?**\n",
        "\n",
        "Um módulo pode conter:\n",
        "\n",
        "* **Funções:** Definições de funções.\n",
        "* **Classes:** Definições de classes.\n",
        "* **Variáveis:** Variáveis e constantes.\n",
        "* **Instruções executáveis:** Código que é executado quando o módulo é importado pela primeira vez.\n",
        "\n",
        "**Como usar módulos?**\n",
        "\n",
        "Você pode usar o conteúdo de um módulo em outro script ou no interpretador Python usando a palavra-chave `import`.\n",
        "\n",
        "**Importando um módulo inteiro:**"
      ]
    },
    {
      "cell_type": "code",
      "metadata": {
        "id": "cede3005"
      },
      "source": [
        "from nome_do_modulo import elemento1, elemento2"
      ],
      "execution_count": null,
      "outputs": []
    },
    {
      "cell_type": "code",
      "metadata": {
        "id": "98b09973"
      },
      "source": [
        "from nome_do_modulo import *"
      ],
      "execution_count": null,
      "outputs": []
    },
    {
      "cell_type": "code",
      "metadata": {
        "id": "97cdb644"
      },
      "source": [
        "import nome_do_modulo as alias"
      ],
      "execution_count": null,
      "outputs": []
    },
    {
      "cell_type": "markdown",
      "metadata": {
        "id": "005bd5e7"
      },
      "source": [
        "### List Comprehension em Python\n",
        "\n",
        "List Comprehension oferece uma maneira concisa de criar listas. É uma alternativa mais legível e geralmente mais rápida do que usar loops `for` tradicionais e `append()` para criar listas.\n",
        "\n",
        "**Sintaxe básica:**"
      ]
    },
    {
      "cell_type": "code",
      "metadata": {
        "id": "8387810d"
      },
      "source": [
        "nova_lista = [expressao for item in iteravel if condicao]"
      ],
      "execution_count": null,
      "outputs": []
    },
    {
      "cell_type": "code",
      "metadata": {
        "id": "d903853f"
      },
      "source": [
        "nova_lista = [expressao_se_verdadeiro if condicao else expressao_se_falso for item in iteravel]"
      ],
      "execution_count": null,
      "outputs": []
    },
    {
      "cell_type": "code",
      "source": [
        "# Exercício 1: Use List Comprehension para criar uma nova lista contendo o quadrado de cada número na lista 'numeros'.\n",
        "numeros = [1, 2, 3, 4, 5]\n",
        "# Implemente aqui"
      ],
      "metadata": {
        "id": "M27WndAg1jNI"
      },
      "execution_count": null,
      "outputs": []
    },
    {
      "cell_type": "code",
      "source": [
        "# Exercício 2: Use List Comprehension para criar uma nova lista contendo apenas as strings da lista 'elementos'.\n",
        "elementos = [1, \"hello\", True, 3.14, \"world\", False]\n",
        "# Implemente aqui"
      ],
      "metadata": {
        "id": "HxB05AMl1qlx"
      },
      "execution_count": null,
      "outputs": []
    },
    {
      "cell_type": "code",
      "source": [
        "# Exercício 3: Use List Comprehension para criar uma nova lista contendo apenas os números pares da lista 'numeros'.\n",
        "numeros = [1, 2, 3, 4, 5, 6, 7, 8, 9, 10]\n",
        "# Implemente aqui"
      ],
      "metadata": {
        "id": "P_sXMzlw1sNH"
      },
      "execution_count": null,
      "outputs": []
    },
    {
      "cell_type": "code",
      "source": [
        "# Exercício 4: Use List Comprehension para criar uma nova lista contendo o comprimento de cada palavra na lista 'palavras'.\n",
        "palavras = [\"python\", \"java\", \"c++\", \"javascript\", \"ruby\"]\n",
        "# Implemente aqui"
      ],
      "metadata": {
        "id": "HQboiHf91tmf"
      },
      "execution_count": null,
      "outputs": []
    }
  ]
}